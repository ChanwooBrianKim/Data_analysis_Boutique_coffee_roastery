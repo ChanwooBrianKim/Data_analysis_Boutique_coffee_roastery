{
 "cells": [
  {
   "cell_type": "markdown",
   "metadata": {
    "tags": []
   },
   "source": [
    "## Case Study\n",
    "\n",
    "#### INSTRUCTIONS\n",
    "\n",
    "1. Complete the section below with your personal details (and run the cell)\n",
    "2. For each question, implement the full **QDAVI** data analytics cycle for the provided business concern. Ensure that you complete the cycle by addressing the question with your insights.\n",
    "3. Ensure that you identify meaningful questions that clearly address each business concern.\n",
    "4. Ensure that you use markdown cells to document your thinking and decision making for each stage of the process. Be clear on how your decisions are working towards addressing the question.\n",
    "5. Ensure that your code runs without errors, and that your results are appropriate for the question.\n",
    "\n",
    "**IMPORTANT:** ONLY SUBMIT YOUR BEST DATA ANALYTICS CYCLE FOR EACH ASSIGNMENT QUESTION. \n",
    "You are likely to need to do multiple data analytics cycles while exploring the data and working out the best insights. You could make a copy of this template to do exploratory analysis. Once you have found convincing insights for each business concern, you should select the best and submit 1 cycle for each business concern (Assignment Question)."
   ]
  },
  {
   "cell_type": "markdown",
   "metadata": {},
   "source": [
    "---\n",
    "## Question 1 - Internal Concern\n",
    "\n",
    "Your business is a boutique coffee roastery, and you sell a range of products to cafes and restaurants around Brisbane City. In order to plan how to grow your business, you have decided to analyse your last year of sales data. You would like to know what the sales data tells you about (a) the areas you sell to, (b) the products you are selling, and (c) what you should consider changing to grow your business.\n",
    "\n",
    "#### Data:\n",
    "Sales data is provided in the file: `coffee_sales.csv`"
   ]
  },
  {
   "cell_type": "code",
   "execution_count": 3,
   "metadata": {},
   "outputs": [
    {
     "name": "stdout",
     "output_type": "stream",
     "text": [
      "File 'coffee_sales.csv' has been successfully loaded.\n"
     ]
    }
   ],
   "source": [
    "# import libraries that you need here\n",
    "import pandas as pd\n",
    "\n",
    "# Specify the file path\n",
    "file_path = 'data/coffee_sales.csv'\n",
    "\n",
    "# Read the CSV file using pandas\n",
    "try:\n",
    "    df = pd.read_csv(file_path)\n",
    "    print(\"File 'coffee_sales.csv' has been successfully loaded.\")\n",
    "    # Now you can work with the 'df' DataFrame\n",
    "except FileNotFoundError:\n",
    "    print(\"File not found. Please make sure the file 'coffee_sales.csv' is in the correct directory.\")\n",
    "except Exception as e:\n",
    "    print(\"An error occurred:\", e)\n"
   ]
  },
  {
   "cell_type": "markdown",
   "metadata": {},
   "source": [
    "### 1. Question"
   ]
  },
  {
   "cell_type": "markdown",
   "metadata": {},
   "source": [
    "* Relationship between price and quantity\n",
    "* Is higher price products selling less but generate more revenue?"
   ]
  },
  {
   "cell_type": "markdown",
   "metadata": {
    "tags": []
   },
   "source": [
    "### 2. Data"
   ]
  },
  {
   "cell_type": "code",
   "execution_count": 4,
   "metadata": {},
   "outputs": [
    {
     "data": {
      "text/plain": [
       "Date        object\n",
       "Zone        object\n",
       "Area        object\n",
       "Range       object\n",
       "Product     object\n",
       "Qty          int64\n",
       "Price      float64\n",
       "dtype: object"
      ]
     },
     "execution_count": 4,
     "metadata": {},
     "output_type": "execute_result"
    }
   ],
   "source": [
    "# Load data\n",
    "df = pd.read_csv('data/coffee_sales.csv')\n",
    "\n",
    "# Clean/prepare the data for analysis\n",
    "# Check data types\n",
    "df.dtypes\n",
    "    "
   ]
  },
  {
   "cell_type": "code",
   "execution_count": 5,
   "metadata": {
    "tags": []
   },
   "outputs": [
    {
     "data": {
      "text/html": [
       "<div>\n",
       "<style scoped>\n",
       "    .dataframe tbody tr th:only-of-type {\n",
       "        vertical-align: middle;\n",
       "    }\n",
       "\n",
       "    .dataframe tbody tr th {\n",
       "        vertical-align: top;\n",
       "    }\n",
       "\n",
       "    .dataframe thead th {\n",
       "        text-align: right;\n",
       "    }\n",
       "</style>\n",
       "<table border=\"1\" class=\"dataframe\">\n",
       "  <thead>\n",
       "    <tr style=\"text-align: right;\">\n",
       "      <th></th>\n",
       "      <th>Date</th>\n",
       "      <th>Zone</th>\n",
       "      <th>Area</th>\n",
       "      <th>Range</th>\n",
       "      <th>Product</th>\n",
       "      <th>Qty</th>\n",
       "      <th>Price</th>\n",
       "    </tr>\n",
       "  </thead>\n",
       "  <tbody>\n",
       "    <tr>\n",
       "      <th>0</th>\n",
       "      <td>12-Jul</td>\n",
       "      <td>Northside</td>\n",
       "      <td>Fortitude Valley</td>\n",
       "      <td>Premium</td>\n",
       "      <td>2kg Single Origin Select</td>\n",
       "      <td>42</td>\n",
       "      <td>34.9</td>\n",
       "    </tr>\n",
       "    <tr>\n",
       "      <th>1</th>\n",
       "      <td>15-Dec</td>\n",
       "      <td>Northside</td>\n",
       "      <td>Fortitude Valley</td>\n",
       "      <td>Premium</td>\n",
       "      <td>2kg Single Origin Select</td>\n",
       "      <td>41</td>\n",
       "      <td>34.9</td>\n",
       "    </tr>\n",
       "    <tr>\n",
       "      <th>2</th>\n",
       "      <td>18-Jun</td>\n",
       "      <td>Northside</td>\n",
       "      <td>Fortitude Valley</td>\n",
       "      <td>Premium</td>\n",
       "      <td>2kg Single Origin Select</td>\n",
       "      <td>38</td>\n",
       "      <td>34.9</td>\n",
       "    </tr>\n",
       "    <tr>\n",
       "      <th>3</th>\n",
       "      <td>04-Oct</td>\n",
       "      <td>Northside</td>\n",
       "      <td>Fortitude Valley</td>\n",
       "      <td>Premium</td>\n",
       "      <td>2kg Single Origin Select</td>\n",
       "      <td>38</td>\n",
       "      <td>34.9</td>\n",
       "    </tr>\n",
       "    <tr>\n",
       "      <th>4</th>\n",
       "      <td>31-May</td>\n",
       "      <td>Northside</td>\n",
       "      <td>Fortitude Valley</td>\n",
       "      <td>Premium</td>\n",
       "      <td>2kg Single Origin Select</td>\n",
       "      <td>33</td>\n",
       "      <td>34.9</td>\n",
       "    </tr>\n",
       "    <tr>\n",
       "      <th>...</th>\n",
       "      <td>...</td>\n",
       "      <td>...</td>\n",
       "      <td>...</td>\n",
       "      <td>...</td>\n",
       "      <td>...</td>\n",
       "      <td>...</td>\n",
       "      <td>...</td>\n",
       "    </tr>\n",
       "    <tr>\n",
       "      <th>239</th>\n",
       "      <td>21-Dec</td>\n",
       "      <td>Southside</td>\n",
       "      <td>Southbank</td>\n",
       "      <td>Standard</td>\n",
       "      <td>2kg Everyday Blend</td>\n",
       "      <td>29</td>\n",
       "      <td>16.8</td>\n",
       "    </tr>\n",
       "    <tr>\n",
       "      <th>240</th>\n",
       "      <td>13-Apr</td>\n",
       "      <td>Southside</td>\n",
       "      <td>West End</td>\n",
       "      <td>Standard</td>\n",
       "      <td>2kg Everyday Blend</td>\n",
       "      <td>28</td>\n",
       "      <td>16.8</td>\n",
       "    </tr>\n",
       "    <tr>\n",
       "      <th>241</th>\n",
       "      <td>24-Jun</td>\n",
       "      <td>Southside</td>\n",
       "      <td>Southbank</td>\n",
       "      <td>Standard</td>\n",
       "      <td>2kg Everyday Blend</td>\n",
       "      <td>28</td>\n",
       "      <td>16.8</td>\n",
       "    </tr>\n",
       "    <tr>\n",
       "      <th>242</th>\n",
       "      <td>28-Jan</td>\n",
       "      <td>Northside</td>\n",
       "      <td>CBD</td>\n",
       "      <td>Standard</td>\n",
       "      <td>2kg Everyday Blend</td>\n",
       "      <td>28</td>\n",
       "      <td>13.5</td>\n",
       "    </tr>\n",
       "    <tr>\n",
       "      <th>243</th>\n",
       "      <td>15-Feb</td>\n",
       "      <td>Northside</td>\n",
       "      <td>CBD</td>\n",
       "      <td>Standard</td>\n",
       "      <td>2kg Everyday Blend</td>\n",
       "      <td>27</td>\n",
       "      <td>13.5</td>\n",
       "    </tr>\n",
       "  </tbody>\n",
       "</table>\n",
       "<p>244 rows × 7 columns</p>\n",
       "</div>"
      ],
      "text/plain": [
       "       Date       Zone              Area     Range                   Product  \\\n",
       "0    12-Jul  Northside  Fortitude Valley   Premium  2kg Single Origin Select   \n",
       "1    15-Dec  Northside  Fortitude Valley   Premium  2kg Single Origin Select   \n",
       "2    18-Jun  Northside  Fortitude Valley   Premium  2kg Single Origin Select   \n",
       "3    04-Oct  Northside  Fortitude Valley   Premium  2kg Single Origin Select   \n",
       "4    31-May  Northside  Fortitude Valley   Premium  2kg Single Origin Select   \n",
       "..      ...        ...               ...       ...                       ...   \n",
       "239  21-Dec  Southside         Southbank  Standard        2kg Everyday Blend   \n",
       "240  13-Apr  Southside          West End  Standard        2kg Everyday Blend   \n",
       "241  24-Jun  Southside         Southbank  Standard        2kg Everyday Blend   \n",
       "242  28-Jan  Northside               CBD  Standard        2kg Everyday Blend   \n",
       "243  15-Feb  Northside               CBD  Standard        2kg Everyday Blend   \n",
       "\n",
       "     Qty  Price  \n",
       "0     42   34.9  \n",
       "1     41   34.9  \n",
       "2     38   34.9  \n",
       "3     38   34.9  \n",
       "4     33   34.9  \n",
       "..   ...    ...  \n",
       "239   29   16.8  \n",
       "240   28   16.8  \n",
       "241   28   16.8  \n",
       "242   28   13.5  \n",
       "243   27   13.5  \n",
       "\n",
       "[244 rows x 7 columns]"
      ]
     },
     "execution_count": 5,
     "metadata": {},
     "output_type": "execute_result"
    }
   ],
   "source": [
    "# As date is an object - we need to to convert the date column to a date data type (this makes it easier later in the analysis to extract months and years)\n",
    "df['Date'] = df['Date'].apply(lambda x: pd.to_datetime(x, format='%d-%b').strftime('%d-%b'))\n",
    "df"
   ]
  },
  {
   "cell_type": "markdown",
   "metadata": {},
   "source": [
    "### 3. Analysis"
   ]
  },
  {
   "cell_type": "code",
   "execution_count": 6,
   "metadata": {
    "tags": []
   },
   "outputs": [
    {
     "name": "stdout",
     "output_type": "stream",
     "text": [
      "      Range  Count\n",
      "0   Barista     95\n",
      "1      Cafe     94\n",
      "2  Standard     29\n",
      "3   Premium     26\n"
     ]
    }
   ],
   "source": [
    "# Analyse the data - ensure that you at least use the required technique\n",
    "\n",
    "\n",
    "\n",
    "# ### And the datetime needs to be convert correctly (%m-%d)\n",
    "# ### And remove unnecessary columns\n",
    "\n",
    "# Count the occurrences and convert to a DataFrame\n",
    "value_counts_df = df['Range'].value_counts().reset_index()\n",
    "\n",
    "# Rename the columns\n",
    "value_counts_df.columns = ['Range', 'Count']\n",
    "\n",
    "# Display the DataFrame\n",
    "print(value_counts_df)"
   ]
  },
  {
   "cell_type": "code",
   "execution_count": 7,
   "metadata": {
    "tags": []
   },
   "outputs": [
    {
     "name": "stdout",
     "output_type": "stream",
     "text": [
      "      Range  Price  count\n",
      "0   Barista   18.7     33\n",
      "1   Barista   21.8     31\n",
      "2   Barista   28.4     31\n",
      "3      Cafe   17.7     64\n",
      "4      Cafe   18.7     27\n",
      "5      Cafe   22.7      3\n",
      "6   Premium   34.9     26\n",
      "7  Standard   13.5      2\n",
      "8  Standard   16.8     20\n",
      "9  Standard   31.5      7\n"
     ]
    }
   ],
   "source": [
    "# Assuming df contains columns 'product_range' and 'price'\n",
    "value_counts = df.groupby(['Range', 'Price']).size().reset_index(name='count')\n",
    "\n",
    "# Display the value counts DataFrame\n",
    "print(value_counts)"
   ]
  },
  {
   "cell_type": "code",
   "execution_count": 8,
   "metadata": {
    "tags": []
   },
   "outputs": [
    {
     "data": {
      "text/html": [
       "<div>\n",
       "<style scoped>\n",
       "    .dataframe tbody tr th:only-of-type {\n",
       "        vertical-align: middle;\n",
       "    }\n",
       "\n",
       "    .dataframe tbody tr th {\n",
       "        vertical-align: top;\n",
       "    }\n",
       "\n",
       "    .dataframe thead tr th {\n",
       "        text-align: left;\n",
       "    }\n",
       "\n",
       "    .dataframe thead tr:last-of-type th {\n",
       "        text-align: right;\n",
       "    }\n",
       "</style>\n",
       "<table border=\"1\" class=\"dataframe\">\n",
       "  <thead>\n",
       "    <tr>\n",
       "      <th></th>\n",
       "      <th colspan=\"9\" halign=\"left\">Qty</th>\n",
       "      <th colspan=\"9\" halign=\"left\">Revenue</th>\n",
       "    </tr>\n",
       "    <tr>\n",
       "      <th>Price</th>\n",
       "      <th>13.5</th>\n",
       "      <th>16.8</th>\n",
       "      <th>17.7</th>\n",
       "      <th>18.7</th>\n",
       "      <th>21.8</th>\n",
       "      <th>22.7</th>\n",
       "      <th>28.4</th>\n",
       "      <th>31.5</th>\n",
       "      <th>34.9</th>\n",
       "      <th>13.5</th>\n",
       "      <th>16.8</th>\n",
       "      <th>17.7</th>\n",
       "      <th>18.7</th>\n",
       "      <th>21.8</th>\n",
       "      <th>22.7</th>\n",
       "      <th>28.4</th>\n",
       "      <th>31.5</th>\n",
       "      <th>34.9</th>\n",
       "    </tr>\n",
       "    <tr>\n",
       "      <th>Range</th>\n",
       "      <th></th>\n",
       "      <th></th>\n",
       "      <th></th>\n",
       "      <th></th>\n",
       "      <th></th>\n",
       "      <th></th>\n",
       "      <th></th>\n",
       "      <th></th>\n",
       "      <th></th>\n",
       "      <th></th>\n",
       "      <th></th>\n",
       "      <th></th>\n",
       "      <th></th>\n",
       "      <th></th>\n",
       "      <th></th>\n",
       "      <th></th>\n",
       "      <th></th>\n",
       "      <th></th>\n",
       "    </tr>\n",
       "  </thead>\n",
       "  <tbody>\n",
       "    <tr>\n",
       "      <th>Barista</th>\n",
       "      <td>0</td>\n",
       "      <td>0</td>\n",
       "      <td>0</td>\n",
       "      <td>2445</td>\n",
       "      <td>2445</td>\n",
       "      <td>0</td>\n",
       "      <td>2574</td>\n",
       "      <td>0</td>\n",
       "      <td>0</td>\n",
       "      <td>0.0</td>\n",
       "      <td>0.0</td>\n",
       "      <td>0.0</td>\n",
       "      <td>45721.5</td>\n",
       "      <td>53301</td>\n",
       "      <td>0.0</td>\n",
       "      <td>73101.6</td>\n",
       "      <td>0</td>\n",
       "      <td>0.0</td>\n",
       "    </tr>\n",
       "    <tr>\n",
       "      <th>Cafe</th>\n",
       "      <td>0</td>\n",
       "      <td>0</td>\n",
       "      <td>4187</td>\n",
       "      <td>1575</td>\n",
       "      <td>0</td>\n",
       "      <td>79</td>\n",
       "      <td>0</td>\n",
       "      <td>0</td>\n",
       "      <td>0</td>\n",
       "      <td>0.0</td>\n",
       "      <td>0.0</td>\n",
       "      <td>74109.9</td>\n",
       "      <td>29452.5</td>\n",
       "      <td>0</td>\n",
       "      <td>1793.3</td>\n",
       "      <td>0.0</td>\n",
       "      <td>0</td>\n",
       "      <td>0.0</td>\n",
       "    </tr>\n",
       "    <tr>\n",
       "      <th>Premium</th>\n",
       "      <td>0</td>\n",
       "      <td>0</td>\n",
       "      <td>0</td>\n",
       "      <td>0</td>\n",
       "      <td>0</td>\n",
       "      <td>0</td>\n",
       "      <td>0</td>\n",
       "      <td>0</td>\n",
       "      <td>957</td>\n",
       "      <td>0.0</td>\n",
       "      <td>0.0</td>\n",
       "      <td>0.0</td>\n",
       "      <td>0.0</td>\n",
       "      <td>0</td>\n",
       "      <td>0.0</td>\n",
       "      <td>0.0</td>\n",
       "      <td>0</td>\n",
       "      <td>33399.3</td>\n",
       "    </tr>\n",
       "    <tr>\n",
       "      <th>Standard</th>\n",
       "      <td>55</td>\n",
       "      <td>939</td>\n",
       "      <td>0</td>\n",
       "      <td>0</td>\n",
       "      <td>0</td>\n",
       "      <td>0</td>\n",
       "      <td>0</td>\n",
       "      <td>186</td>\n",
       "      <td>0</td>\n",
       "      <td>742.5</td>\n",
       "      <td>15775.2</td>\n",
       "      <td>0.0</td>\n",
       "      <td>0.0</td>\n",
       "      <td>0</td>\n",
       "      <td>0.0</td>\n",
       "      <td>0.0</td>\n",
       "      <td>5859</td>\n",
       "      <td>0.0</td>\n",
       "    </tr>\n",
       "  </tbody>\n",
       "</table>\n",
       "</div>"
      ],
      "text/plain": [
       "          Qty                                             Revenue           \\\n",
       "Price    13.5 16.8  17.7  18.7  21.8 22.7  28.4 31.5 34.9    13.5     16.8   \n",
       "Range                                                                        \n",
       "Barista     0    0     0  2445  2445    0  2574    0    0     0.0      0.0   \n",
       "Cafe        0    0  4187  1575     0   79     0    0    0     0.0      0.0   \n",
       "Premium     0    0     0     0     0    0     0    0  957     0.0      0.0   \n",
       "Standard   55  939     0     0     0    0     0  186    0   742.5  15775.2   \n",
       "\n",
       "                                                                   \n",
       "Price        17.7     18.7   21.8    22.7     28.4  31.5     34.9  \n",
       "Range                                                              \n",
       "Barista       0.0  45721.5  53301     0.0  73101.6     0      0.0  \n",
       "Cafe      74109.9  29452.5      0  1793.3      0.0     0      0.0  \n",
       "Premium       0.0      0.0      0     0.0      0.0     0  33399.3  \n",
       "Standard      0.0      0.0      0     0.0      0.0  5859      0.0  "
      ]
     },
     "execution_count": 8,
     "metadata": {},
     "output_type": "execute_result"
    }
   ],
   "source": [
    "import pandas as pd\n",
    "import matplotlib.pyplot as plt\n",
    "import seaborn as sns\n",
    "\n",
    "# Calculate total revenue for each product based on price and quantity\n",
    "df['Revenue'] = df['Price'] * df['Qty']\n",
    "\n",
    "# Create a pivot table to show total revenue and quantity by price range\n",
    "pivot_table = df.pivot_table(index='Range', columns='Price', values=['Qty', 'Revenue'], aggfunc={'Qty': 'sum', 'Revenue': 'sum'}, fill_value=0)\n",
    "\n",
    "# Display the pivot table\n",
    "pivot_table\n"
   ]
  },
  {
   "cell_type": "code",
   "execution_count": 9,
   "metadata": {
    "tags": []
   },
   "outputs": [
    {
     "name": "stdout",
     "output_type": "stream",
     "text": [
      "      Range   Revenue\n",
      "0   Barista  172124.1\n",
      "1      Cafe  105355.7\n",
      "2   Premium   33399.3\n",
      "3  Standard   22376.7\n"
     ]
    }
   ],
   "source": [
    "import pandas as pd\n",
    "\n",
    "# Group by product range and calculate total revenue for each range\n",
    "total_revenue_by_range = df.groupby('Range')['Revenue'].sum().reset_index()\n",
    "\n",
    "# Display the total revenue for each range\n",
    "print(total_revenue_by_range)\n"
   ]
  },
  {
   "cell_type": "markdown",
   "metadata": {},
   "source": [
    "### 4. Visualisation"
   ]
  },
  {
   "cell_type": "code",
   "execution_count": 10,
   "metadata": {
    "tags": []
   },
   "outputs": [
    {
     "data": {
      "image/png": "[encoded data removed]",
      "text/plain": [
       "<Figure size 1000x600 with 1 Axes>"
      ]
     },
     "metadata": {},
     "output_type": "display_data"
    }
   ],
   "source": [
    "import pandas as pd\n",
    "import seaborn as sns\n",
    "import matplotlib.pyplot as plt\n",
    "\n",
    "# Group by product range and calculate total revenue for each range\n",
    "total_revenue_by_range = df.groupby('Range')['Revenue'].sum().reset_index()\n",
    "\n",
    "# Use the calculated data for visualization\n",
    "data = total_revenue_by_range\n",
    "\n",
    "# Create a bar plot to visualize total revenue by range\n",
    "plt.figure(figsize=(10, 6))\n",
    "sns.barplot(x='Range', y='Revenue', data=data)\n",
    "plt.title('Total Revenue by Product Range')\n",
    "plt.xlabel('Product Range')\n",
    "plt.ylabel('Total Revenue')\n",
    "plt.show()\n"
   ]
  },
  {
   "cell_type": "code",
   "execution_count": 11,
   "metadata": {
    "tags": []
   },
   "outputs": [
    {
     "data": {
      "image/png": "[encoded data removed]",
      "text/plain": [
       "<Figure size 1000x600 with 1 Axes>"
      ]
     },
     "metadata": {},
     "output_type": "display_data"
    }
   ],
   "source": [
    "# Create a scatter plot to visualize the relationship between price and quantity\n",
    "plt.figure(figsize=(10, 6))\n",
    "sns.scatterplot(data=df, x='Price', y='Qty')\n",
    "plt.title('Price vs Quantity Sold')\n",
    "plt.xlabel('Price')\n",
    "plt.ylabel('Quantity Sold')\n",
    "plt.show()\n"
   ]
  },
  {
   "cell_type": "code",
   "execution_count": 12,
   "metadata": {
    "tags": []
   },
   "outputs": [
    {
     "data": {
      "image/png": "[encoded data removed]",
      "text/plain": [
       "<Figure size 1000x600 with 1 Axes>"
      ]
     },
     "metadata": {},
     "output_type": "display_data"
    }
   ],
   "source": [
    "# Create price segments and calculate average quantity sold within each segment\n",
    "price_segments = pd.cut(df['Price'], bins=[0, 10, 20, 30, 40, 50], labels=['0-10', '10-20', '20-30', '30-40', '40-50'])\n",
    "df['price_segment'] = price_segments\n",
    "average_quantity_by_segment = df.groupby('price_segment')['Qty'].mean()\n",
    "\n",
    "# Plot the average quantity by price segment\n",
    "plt.figure(figsize=(10, 6))\n",
    "sns.barplot(x=average_quantity_by_segment.index, y=average_quantity_by_segment.values)\n",
    "plt.title('Average Quantity Sold by Price Segment')\n",
    "plt.xlabel('Price Segment')\n",
    "plt.ylabel('Average Quantity Sold')\n",
    "plt.show()\n"
   ]
  },
  {
   "cell_type": "markdown",
   "metadata": {},
   "source": [
    "### 5. Insight"
   ]
  },
  {
   "cell_type": "markdown",
   "metadata": {},
   "source": [
    "Using the Price, Range, and Qty data, we could find the relationship between price and quantity for each product range.\n",
    "\n",
    "Initially we expected that the higher price can generate more revenue even though its selling is less than lower pirce product range. However, as shown above it indicates that middle tier, Braisat and Cafe generate more thant Premium one and its gap between revenue of Barista and Premium has bigger than we expected.\n",
    "\n",
    "In this case, we can be known that we have to focus on middle priced product range rather than the higher price product in Brisbane next year. Also, it could be better insight if we are given the relationship between Premium poduct price and customer's demand on it to increase revenue from that.\n",
    "\n",
    "\n"
   ]
  },
  {
   "cell_type": "markdown",
   "metadata": {
    "tags": []
   },
   "source": [
    "---\n",
    "## Question 2 - External Concern\n",
    "\n",
    "Your business is a boutique coffee roastery, and you are interested in wheather general news about coffee is potentially helpful for you business. You are also looking for specific news that you can use to (a)promote the positives of drinking coffee, and (b) identify other products that could be good to sell with coffee.\n",
    "\n",
    "#### Data:\n",
    "[The Guardian OpenPlatform](https://open-platform.theguardian.com/access/)\n"
   ]
  },
  {
   "cell_type": "code",
   "execution_count": 13,
   "metadata": {
    "tags": []
   },
   "outputs": [
    {
     "name": "stdout",
     "output_type": "stream",
     "text": [
      "Requirement already satisfied: wordcloud in /opt/conda/lib/python3.10/site-packages (1.9.2)\n",
      "Requirement already satisfied: numpy>=1.6.1 in /opt/conda/lib/python3.10/site-packages (from wordcloud) (1.25.1)\n",
      "Requirement already satisfied: pillow in /opt/conda/lib/python3.10/site-packages (from wordcloud) (10.0.0)\n",
      "Requirement already satisfied: matplotlib in /opt/conda/lib/python3.10/site-packages (from wordcloud) (3.7.2)\n",
      "Requirement already satisfied: contourpy>=1.0.1 in /opt/conda/lib/python3.10/site-packages (from matplotlib->wordcloud) (1.1.0)\n",
      "Requirement already satisfied: cycler>=0.10 in /opt/conda/lib/python3.10/site-packages (from matplotlib->wordcloud) (0.11.0)\n",
      "Requirement already satisfied: fonttools>=4.22.0 in /opt/conda/lib/python3.10/site-packages (from matplotlib->wordcloud) (4.41.1)\n",
      "Requirement already satisfied: kiwisolver>=1.0.1 in /opt/conda/lib/python3.10/site-packages (from matplotlib->wordcloud) (1.4.4)\n",
      "Requirement already satisfied: packaging>=20.0 in /opt/conda/lib/python3.10/site-packages (from matplotlib->wordcloud) (23.1)\n",
      "Requirement already satisfied: pyparsing<3.1,>=2.3.1 in /opt/conda/lib/python3.10/site-packages (from matplotlib->wordcloud) (3.0.9)\n",
      "Requirement already satisfied: python-dateutil>=2.7 in /opt/conda/lib/python3.10/site-packages (from matplotlib->wordcloud) (2.8.2)\n",
      "Requirement already satisfied: six>=1.5 in /opt/conda/lib/python3.10/site-packages (from python-dateutil>=2.7->matplotlib->wordcloud) (1.16.0)\n",
      "Requirement already satisfied: gensim in /opt/conda/lib/python3.10/site-packages (4.3.1)\n",
      "Requirement already satisfied: numpy>=1.18.5 in /opt/conda/lib/python3.10/site-packages (from gensim) (1.25.1)\n",
      "Requirement already satisfied: scipy>=1.7.0 in /opt/conda/lib/python3.10/site-packages (from gensim) (1.11.1)\n",
      "Requirement already satisfied: smart-open>=1.8.1 in /opt/conda/lib/python3.10/site-packages (from gensim) (6.3.0)\n",
      "Requirement already satisfied: spacy in /opt/conda/lib/python3.10/site-packages (3.7.2)\n",
      "Requirement already satisfied: spacy-legacy<3.1.0,>=3.0.11 in /opt/conda/lib/python3.10/site-packages (from spacy) (3.0.12)\n",
      "Requirement already satisfied: spacy-loggers<2.0.0,>=1.0.0 in /opt/conda/lib/python3.10/site-packages (from spacy) (1.0.5)\n",
      "Requirement already satisfied: murmurhash<1.1.0,>=0.28.0 in /opt/conda/lib/python3.10/site-packages (from spacy) (1.0.10)\n",
      "Requirement already satisfied: cymem<2.1.0,>=2.0.2 in /opt/conda/lib/python3.10/site-packages (from spacy) (2.0.8)\n",
      "Requirement already satisfied: preshed<3.1.0,>=3.0.2 in /opt/conda/lib/python3.10/site-packages (from spacy) (3.0.9)\n",
      "Requirement already satisfied: thinc<8.3.0,>=8.1.8 in /opt/conda/lib/python3.10/site-packages (from spacy) (8.2.1)\n",
      "Requirement already satisfied: wasabi<1.2.0,>=0.9.1 in /opt/conda/lib/python3.10/site-packages (from spacy) (1.1.2)\n",
      "Requirement already satisfied: srsly<3.0.0,>=2.4.3 in /opt/conda/lib/python3.10/site-packages (from spacy) (2.4.8)\n",
      "Requirement already satisfied: catalogue<2.1.0,>=2.0.6 in /opt/conda/lib/python3.10/site-packages (from spacy) (2.0.10)\n",
      "Requirement already satisfied: weasel<0.4.0,>=0.1.0 in /opt/conda/lib/python3.10/site-packages (from spacy) (0.3.3)\n",
      "Requirement already satisfied: typer<0.10.0,>=0.3.0 in /opt/conda/lib/python3.10/site-packages (from spacy) (0.9.0)\n",
      "Requirement already satisfied: smart-open<7.0.0,>=5.2.1 in /opt/conda/lib/python3.10/site-packages (from spacy) (6.3.0)\n",
      "Requirement already satisfied: tqdm<5.0.0,>=4.38.0 in /opt/conda/lib/python3.10/site-packages (from spacy) (4.65.0)\n",
      "Requirement already satisfied: requests<3.0.0,>=2.13.0 in /opt/conda/lib/python3.10/site-packages (from spacy) (2.31.0)\n",
      "Requirement already satisfied: pydantic!=1.8,!=1.8.1,<3.0.0,>=1.7.4 in /opt/conda/lib/python3.10/site-packages (from spacy) (2.4.2)\n",
      "Requirement already satisfied: jinja2 in /opt/conda/lib/python3.10/site-packages (from spacy) (3.1.2)\n",
      "Requirement already satisfied: setuptools in /opt/conda/lib/python3.10/site-packages (from spacy) (68.0.0)\n",
      "Requirement already satisfied: packaging>=20.0 in /opt/conda/lib/python3.10/site-packages (from spacy) (23.1)\n",
      "Requirement already satisfied: langcodes<4.0.0,>=3.2.0 in /opt/conda/lib/python3.10/site-packages (from spacy) (3.3.0)\n",
      "Requirement already satisfied: numpy>=1.19.0 in /opt/conda/lib/python3.10/site-packages (from spacy) (1.25.1)\n",
      "Requirement already satisfied: annotated-types>=0.4.0 in /opt/conda/lib/python3.10/site-packages (from pydantic!=1.8,!=1.8.1,<3.0.0,>=1.7.4->spacy) (0.6.0)\n",
      "Requirement already satisfied: pydantic-core==2.10.1 in /opt/conda/lib/python3.10/site-packages (from pydantic!=1.8,!=1.8.1,<3.0.0,>=1.7.4->spacy) (2.10.1)\n",
      "Requirement already satisfied: typing-extensions>=4.6.1 in /opt/conda/lib/python3.10/site-packages (from pydantic!=1.8,!=1.8.1,<3.0.0,>=1.7.4->spacy) (4.7.1)\n",
      "Requirement already satisfied: charset-normalizer<4,>=2 in /opt/conda/lib/python3.10/site-packages (from requests<3.0.0,>=2.13.0->spacy) (3.2.0)\n",
      "Requirement already satisfied: idna<4,>=2.5 in /opt/conda/lib/python3.10/site-packages (from requests<3.0.0,>=2.13.0->spacy) (3.4)\n",
      "Requirement already satisfied: urllib3<3,>=1.21.1 in /opt/conda/lib/python3.10/site-packages (from requests<3.0.0,>=2.13.0->spacy) (2.0.4)\n",
      "Requirement already satisfied: certifi>=2017.4.17 in /opt/conda/lib/python3.10/site-packages (from requests<3.0.0,>=2.13.0->spacy) (2023.7.22)\n",
      "Requirement already satisfied: blis<0.8.0,>=0.7.8 in /opt/conda/lib/python3.10/site-packages (from thinc<8.3.0,>=8.1.8->spacy) (0.7.11)\n",
      "Requirement already satisfied: confection<1.0.0,>=0.0.1 in /opt/conda/lib/python3.10/site-packages (from thinc<8.3.0,>=8.1.8->spacy) (0.1.3)\n",
      "Requirement already satisfied: click<9.0.0,>=7.1.1 in /opt/conda/lib/python3.10/site-packages (from typer<0.10.0,>=0.3.0->spacy) (8.1.6)\n",
      "Requirement already satisfied: cloudpathlib<0.17.0,>=0.7.0 in /opt/conda/lib/python3.10/site-packages (from weasel<0.4.0,>=0.1.0->spacy) (0.16.0)\n",
      "Requirement already satisfied: MarkupSafe>=2.0 in /opt/conda/lib/python3.10/site-packages (from jinja2->spacy) (2.1.3)\n",
      "Requirement already satisfied: textblob in /opt/conda/lib/python3.10/site-packages (0.17.1)\n",
      "Requirement already satisfied: nltk>=3.1 in /opt/conda/lib/python3.10/site-packages (from textblob) (3.8.1)\n",
      "Requirement already satisfied: click in /opt/conda/lib/python3.10/site-packages (from nltk>=3.1->textblob) (8.1.6)\n",
      "Requirement already satisfied: joblib in /opt/conda/lib/python3.10/site-packages (from nltk>=3.1->textblob) (1.3.0)\n",
      "Requirement already satisfied: regex>=2021.8.3 in /opt/conda/lib/python3.10/site-packages (from nltk>=3.1->textblob) (2023.10.3)\n",
      "Requirement already satisfied: tqdm in /opt/conda/lib/python3.10/site-packages (from nltk>=3.1->textblob) (4.65.0)\n",
      "Requirement already satisfied: spacy in /opt/conda/lib/python3.10/site-packages (3.7.2)\n",
      "Requirement already satisfied: spacy-legacy<3.1.0,>=3.0.11 in /opt/conda/lib/python3.10/site-packages (from spacy) (3.0.12)\n",
      "Requirement already satisfied: spacy-loggers<2.0.0,>=1.0.0 in /opt/conda/lib/python3.10/site-packages (from spacy) (1.0.5)\n",
      "Requirement already satisfied: murmurhash<1.1.0,>=0.28.0 in /opt/conda/lib/python3.10/site-packages (from spacy) (1.0.10)\n",
      "Requirement already satisfied: cymem<2.1.0,>=2.0.2 in /opt/conda/lib/python3.10/site-packages (from spacy) (2.0.8)\n",
      "Requirement already satisfied: preshed<3.1.0,>=3.0.2 in /opt/conda/lib/python3.10/site-packages (from spacy) (3.0.9)\n",
      "Requirement already satisfied: thinc<8.3.0,>=8.1.8 in /opt/conda/lib/python3.10/site-packages (from spacy) (8.2.1)\n",
      "Requirement already satisfied: wasabi<1.2.0,>=0.9.1 in /opt/conda/lib/python3.10/site-packages (from spacy) (1.1.2)\n",
      "Requirement already satisfied: srsly<3.0.0,>=2.4.3 in /opt/conda/lib/python3.10/site-packages (from spacy) (2.4.8)\n",
      "Requirement already satisfied: catalogue<2.1.0,>=2.0.6 in /opt/conda/lib/python3.10/site-packages (from spacy) (2.0.10)\n",
      "Requirement already satisfied: weasel<0.4.0,>=0.1.0 in /opt/conda/lib/python3.10/site-packages (from spacy) (0.3.3)\n",
      "Requirement already satisfied: typer<0.10.0,>=0.3.0 in /opt/conda/lib/python3.10/site-packages (from spacy) (0.9.0)\n",
      "Requirement already satisfied: smart-open<7.0.0,>=5.2.1 in /opt/conda/lib/python3.10/site-packages (from spacy) (6.3.0)\n",
      "Requirement already satisfied: tqdm<5.0.0,>=4.38.0 in /opt/conda/lib/python3.10/site-packages (from spacy) (4.65.0)\n",
      "Requirement already satisfied: requests<3.0.0,>=2.13.0 in /opt/conda/lib/python3.10/site-packages (from spacy) (2.31.0)\n",
      "Requirement already satisfied: pydantic!=1.8,!=1.8.1,<3.0.0,>=1.7.4 in /opt/conda/lib/python3.10/site-packages (from spacy) (2.4.2)\n",
      "Requirement already satisfied: jinja2 in /opt/conda/lib/python3.10/site-packages (from spacy) (3.1.2)\n",
      "Requirement already satisfied: setuptools in /opt/conda/lib/python3.10/site-packages (from spacy) (68.0.0)\n",
      "Requirement already satisfied: packaging>=20.0 in /opt/conda/lib/python3.10/site-packages (from spacy) (23.1)\n",
      "Requirement already satisfied: langcodes<4.0.0,>=3.2.0 in /opt/conda/lib/python3.10/site-packages (from spacy) (3.3.0)\n",
      "Requirement already satisfied: numpy>=1.19.0 in /opt/conda/lib/python3.10/site-packages (from spacy) (1.25.1)\n",
      "Requirement already satisfied: annotated-types>=0.4.0 in /opt/conda/lib/python3.10/site-packages (from pydantic!=1.8,!=1.8.1,<3.0.0,>=1.7.4->spacy) (0.6.0)\n",
      "Requirement already satisfied: pydantic-core==2.10.1 in /opt/conda/lib/python3.10/site-packages (from pydantic!=1.8,!=1.8.1,<3.0.0,>=1.7.4->spacy) (2.10.1)\n",
      "Requirement already satisfied: typing-extensions>=4.6.1 in /opt/conda/lib/python3.10/site-packages (from pydantic!=1.8,!=1.8.1,<3.0.0,>=1.7.4->spacy) (4.7.1)\n",
      "Requirement already satisfied: charset-normalizer<4,>=2 in /opt/conda/lib/python3.10/site-packages (from requests<3.0.0,>=2.13.0->spacy) (3.2.0)\n",
      "Requirement already satisfied: idna<4,>=2.5 in /opt/conda/lib/python3.10/site-packages (from requests<3.0.0,>=2.13.0->spacy) (3.4)\n",
      "Requirement already satisfied: urllib3<3,>=1.21.1 in /opt/conda/lib/python3.10/site-packages (from requests<3.0.0,>=2.13.0->spacy) (2.0.4)\n",
      "Requirement already satisfied: certifi>=2017.4.17 in /opt/conda/lib/python3.10/site-packages (from requests<3.0.0,>=2.13.0->spacy) (2023.7.22)\n",
      "Requirement already satisfied: blis<0.8.0,>=0.7.8 in /opt/conda/lib/python3.10/site-packages (from thinc<8.3.0,>=8.1.8->spacy) (0.7.11)\n",
      "Requirement already satisfied: confection<1.0.0,>=0.0.1 in /opt/conda/lib/python3.10/site-packages (from thinc<8.3.0,>=8.1.8->spacy) (0.1.3)\n",
      "Requirement already satisfied: click<9.0.0,>=7.1.1 in /opt/conda/lib/python3.10/site-packages (from typer<0.10.0,>=0.3.0->spacy) (8.1.6)\n",
      "Requirement already satisfied: cloudpathlib<0.17.0,>=0.7.0 in /opt/conda/lib/python3.10/site-packages (from weasel<0.4.0,>=0.1.0->spacy) (0.16.0)\n",
      "Requirement already satisfied: MarkupSafe>=2.0 in /opt/conda/lib/python3.10/site-packages (from jinja2->spacy) (2.1.3)\n",
      "Collecting en-core-web-sm==3.7.0\n",
      "  Downloading https://github.com/explosion/spacy-models/releases/download/en_core_web_sm-3.7.0/en_core_web_sm-3.7.0-py3-none-any.whl (12.8 MB)\n",
      "\u001b[2K     \u001b[90m━━━━━━━━━━━━━━━━━━━━━━━━━━━━━━━━━━━━━━━━\u001b[0m \u001b[32m12.8/12.8 MB\u001b[0m \u001b[31m52.4 MB/s\u001b[0m eta \u001b[36m0:00:00\u001b[0m00:01\u001b[0m0:01\u001b[0m\n",
      "\u001b[?25hRequirement already satisfied: spacy<3.8.0,>=3.7.0 in /opt/conda/lib/python3.10/site-packages (from en-core-web-sm==3.7.0) (3.7.2)\n",
      "Requirement already satisfied: spacy-legacy<3.1.0,>=3.0.11 in /opt/conda/lib/python3.10/site-packages (from spacy<3.8.0,>=3.7.0->en-core-web-sm==3.7.0) (3.0.12)\n",
      "Requirement already satisfied: spacy-loggers<2.0.0,>=1.0.0 in /opt/conda/lib/python3.10/site-packages (from spacy<3.8.0,>=3.7.0->en-core-web-sm==3.7.0) (1.0.5)\n",
      "Requirement already satisfied: murmurhash<1.1.0,>=0.28.0 in /opt/conda/lib/python3.10/site-packages (from spacy<3.8.0,>=3.7.0->en-core-web-sm==3.7.0) (1.0.10)\n",
      "Requirement already satisfied: cymem<2.1.0,>=2.0.2 in /opt/conda/lib/python3.10/site-packages (from spacy<3.8.0,>=3.7.0->en-core-web-sm==3.7.0) (2.0.8)\n",
      "Requirement already satisfied: preshed<3.1.0,>=3.0.2 in /opt/conda/lib/python3.10/site-packages (from spacy<3.8.0,>=3.7.0->en-core-web-sm==3.7.0) (3.0.9)\n",
      "Requirement already satisfied: thinc<8.3.0,>=8.1.8 in /opt/conda/lib/python3.10/site-packages (from spacy<3.8.0,>=3.7.0->en-core-web-sm==3.7.0) (8.2.1)\n",
      "Requirement already satisfied: wasabi<1.2.0,>=0.9.1 in /opt/conda/lib/python3.10/site-packages (from spacy<3.8.0,>=3.7.0->en-core-web-sm==3.7.0) (1.1.2)\n",
      "Requirement already satisfied: srsly<3.0.0,>=2.4.3 in /opt/conda/lib/python3.10/site-packages (from spacy<3.8.0,>=3.7.0->en-core-web-sm==3.7.0) (2.4.8)\n",
      "Requirement already satisfied: catalogue<2.1.0,>=2.0.6 in /opt/conda/lib/python3.10/site-packages (from spacy<3.8.0,>=3.7.0->en-core-web-sm==3.7.0) (2.0.10)\n",
      "Requirement already satisfied: weasel<0.4.0,>=0.1.0 in /opt/conda/lib/python3.10/site-packages (from spacy<3.8.0,>=3.7.0->en-core-web-sm==3.7.0) (0.3.3)\n",
      "Requirement already satisfied: typer<0.10.0,>=0.3.0 in /opt/conda/lib/python3.10/site-packages (from spacy<3.8.0,>=3.7.0->en-core-web-sm==3.7.0) (0.9.0)\n",
      "Requirement already satisfied: smart-open<7.0.0,>=5.2.1 in /opt/conda/lib/python3.10/site-packages (from spacy<3.8.0,>=3.7.0->en-core-web-sm==3.7.0) (6.3.0)\n",
      "Requirement already satisfied: tqdm<5.0.0,>=4.38.0 in /opt/conda/lib/python3.10/site-packages (from spacy<3.8.0,>=3.7.0->en-core-web-sm==3.7.0) (4.65.0)\n",
      "Requirement already satisfied: requests<3.0.0,>=2.13.0 in /opt/conda/lib/python3.10/site-packages (from spacy<3.8.0,>=3.7.0->en-core-web-sm==3.7.0) (2.31.0)\n",
      "Requirement already satisfied: pydantic!=1.8,!=1.8.1,<3.0.0,>=1.7.4 in /opt/conda/lib/python3.10/site-packages (from spacy<3.8.0,>=3.7.0->en-core-web-sm==3.7.0) (2.4.2)\n",
      "Requirement already satisfied: jinja2 in /opt/conda/lib/python3.10/site-packages (from spacy<3.8.0,>=3.7.0->en-core-web-sm==3.7.0) (3.1.2)\n",
      "Requirement already satisfied: setuptools in /opt/conda/lib/python3.10/site-packages (from spacy<3.8.0,>=3.7.0->en-core-web-sm==3.7.0) (68.0.0)\n",
      "Requirement already satisfied: packaging>=20.0 in /opt/conda/lib/python3.10/site-packages (from spacy<3.8.0,>=3.7.0->en-core-web-sm==3.7.0) (23.1)\n",
      "Requirement already satisfied: langcodes<4.0.0,>=3.2.0 in /opt/conda/lib/python3.10/site-packages (from spacy<3.8.0,>=3.7.0->en-core-web-sm==3.7.0) (3.3.0)\n",
      "Requirement already satisfied: numpy>=1.19.0 in /opt/conda/lib/python3.10/site-packages (from spacy<3.8.0,>=3.7.0->en-core-web-sm==3.7.0) (1.25.1)\n",
      "Requirement already satisfied: annotated-types>=0.4.0 in /opt/conda/lib/python3.10/site-packages (from pydantic!=1.8,!=1.8.1,<3.0.0,>=1.7.4->spacy<3.8.0,>=3.7.0->en-core-web-sm==3.7.0) (0.6.0)\n",
      "Requirement already satisfied: pydantic-core==2.10.1 in /opt/conda/lib/python3.10/site-packages (from pydantic!=1.8,!=1.8.1,<3.0.0,>=1.7.4->spacy<3.8.0,>=3.7.0->en-core-web-sm==3.7.0) (2.10.1)\n",
      "Requirement already satisfied: typing-extensions>=4.6.1 in /opt/conda/lib/python3.10/site-packages (from pydantic!=1.8,!=1.8.1,<3.0.0,>=1.7.4->spacy<3.8.0,>=3.7.0->en-core-web-sm==3.7.0) (4.7.1)\n",
      "Requirement already satisfied: charset-normalizer<4,>=2 in /opt/conda/lib/python3.10/site-packages (from requests<3.0.0,>=2.13.0->spacy<3.8.0,>=3.7.0->en-core-web-sm==3.7.0) (3.2.0)\n",
      "Requirement already satisfied: idna<4,>=2.5 in /opt/conda/lib/python3.10/site-packages (from requests<3.0.0,>=2.13.0->spacy<3.8.0,>=3.7.0->en-core-web-sm==3.7.0) (3.4)\n",
      "Requirement already satisfied: urllib3<3,>=1.21.1 in /opt/conda/lib/python3.10/site-packages (from requests<3.0.0,>=2.13.0->spacy<3.8.0,>=3.7.0->en-core-web-sm==3.7.0) (2.0.4)\n",
      "Requirement already satisfied: certifi>=2017.4.17 in /opt/conda/lib/python3.10/site-packages (from requests<3.0.0,>=2.13.0->spacy<3.8.0,>=3.7.0->en-core-web-sm==3.7.0) (2023.7.22)\n",
      "Requirement already satisfied: blis<0.8.0,>=0.7.8 in /opt/conda/lib/python3.10/site-packages (from thinc<8.3.0,>=8.1.8->spacy<3.8.0,>=3.7.0->en-core-web-sm==3.7.0) (0.7.11)\n",
      "Requirement already satisfied: confection<1.0.0,>=0.0.1 in /opt/conda/lib/python3.10/site-packages (from thinc<8.3.0,>=8.1.8->spacy<3.8.0,>=3.7.0->en-core-web-sm==3.7.0) (0.1.3)\n",
      "Requirement already satisfied: click<9.0.0,>=7.1.1 in /opt/conda/lib/python3.10/site-packages (from typer<0.10.0,>=0.3.0->spacy<3.8.0,>=3.7.0->en-core-web-sm==3.7.0) (8.1.6)\n",
      "Requirement already satisfied: cloudpathlib<0.17.0,>=0.7.0 in /opt/conda/lib/python3.10/site-packages (from weasel<0.4.0,>=0.1.0->spacy<3.8.0,>=3.7.0->en-core-web-sm==3.7.0) (0.16.0)\n",
      "Requirement already satisfied: MarkupSafe>=2.0 in /opt/conda/lib/python3.10/site-packages (from jinja2->spacy<3.8.0,>=3.7.0->en-core-web-sm==3.7.0) (2.1.3)\n",
      "\u001b[38;5;2m✔ Download and installation successful\u001b[0m\n",
      "You can now load the package via spacy.load('en_core_web_sm')\n"
     ]
    }
   ],
   "source": [
    "!pip install wordcloud\n",
    "!pip install gensim\n",
    "!pip install spacy\n",
    "!pip install textblob\n",
    "!pip install spacy\n",
    "!python -m spacy download en_core_web_sm"
   ]
  },
  {
   "cell_type": "code",
   "execution_count": 14,
   "metadata": {
    "tags": []
   },
   "outputs": [],
   "source": [
    "#import required libraries\n",
    "import requests\n",
    "import json\n",
    "import re\n",
    "import time\n",
    "import datetime\n",
    "import pandas as pd\n",
    "import requests"
   ]
  },
  {
   "cell_type": "code",
   "execution_count": 15,
   "metadata": {},
   "outputs": [
    {
     "data": {
      "text/plain": [
       "36"
      ]
     },
     "execution_count": 15,
     "metadata": {},
     "output_type": "execute_result"
    }
   ],
   "source": [
    "# import libraries that you need here\n",
    "#load your personal API key\n",
    "with open('private/guardian_key.txt', 'r') as file:\n",
    "    key = file.read().strip()\n",
    "len(key)"
   ]
  },
  {
   "cell_type": "markdown",
   "metadata": {},
   "source": [
    "### 1. Question"
   ]
  },
  {
   "cell_type": "markdown",
   "metadata": {},
   "source": [
    "* When people find drinking coffee is postive?\n",
    "* Which product can be sold along with my coffee ranges?"
   ]
  },
  {
   "cell_type": "markdown",
   "metadata": {},
   "source": [
    "### 2. Data"
   ]
  },
  {
   "cell_type": "code",
   "execution_count": 16,
   "metadata": {},
   "outputs": [
    {
     "data": {
      "text/plain": [
       "36"
      ]
     },
     "execution_count": 16,
     "metadata": {},
     "output_type": "execute_result"
    }
   ],
   "source": [
    "# Access the data via API\n",
    "#load your personal API key\n",
    "with open('private/guardian_key.txt', 'r') as file:\n",
    "    key = file.read().strip()\n",
    "len(key)"
   ]
  },
  {
   "cell_type": "code",
   "execution_count": 17,
   "metadata": {
    "tags": []
   },
   "outputs": [
    {
     "name": "stdout",
     "output_type": "stream",
     "text": [
      "{'response': {'status': 'ok', 'userTier': 'developer', 'total': 509, 'startIndex': 1, 'pageSize': 10, 'currentPage': 1, 'pages': 51, 'orderBy': 'relevance', 'results': [{'id': 'food/2023/oct/02/coffee-cinnamon-and-chocolate-cake-recipe', 'type': 'article', 'sectionId': 'food', 'sectionName': 'Food', 'webPublicationDate': '2023-10-02T07:00:08Z', 'webTitle': 'Coffee, cinnamon and chocolate cake recipe', 'webUrl': 'https://www.theguardian.com/food/2023/oct/02/coffee-cinnamon-and-chocolate-cake-recipe', 'apiUrl': 'https://content.guardianapis.com/food/2023/oct/02/coffee-cinnamon-and-chocolate-cake-recipe', 'isHosted': False, 'pillarId': 'pillar/lifestyle', 'pillarName': 'Lifestyle'}, {'id': 'food/2023/oct/02/pumpkin-spice-coffee-scones-recipe-by-benjamina-ebuehi', 'type': 'article', 'sectionId': 'food', 'sectionName': 'Food', 'webPublicationDate': '2023-10-02T07:00:06Z', 'webTitle': 'Pumpkin-spice coffee scones recipe by Benjamina Ebuehi', 'webUrl': 'https://www.theguardian.com/food/2023/oct/02/pumpkin-spice-coffee-scones-recipe-by-benjamina-ebuehi', 'apiUrl': 'https://content.guardianapis.com/food/2023/oct/02/pumpkin-spice-coffee-scones-recipe-by-benjamina-ebuehi', 'isHosted': False, 'pillarId': 'pillar/lifestyle', 'pillarName': 'Lifestyle'}, {'id': 'business/2023/oct/04/starbucks-arabica-coffee-seed-climate-change', 'type': 'article', 'sectionId': 'business', 'sectionName': 'Business', 'webPublicationDate': '2023-10-04T14:10:54Z', 'webTitle': 'Starbucks develops coffee seeds that can withstand climate change effects', 'webUrl': 'https://www.theguardian.com/business/2023/oct/04/starbucks-arabica-coffee-seed-climate-change', 'apiUrl': 'https://content.guardianapis.com/business/2023/oct/04/starbucks-arabica-coffee-seed-climate-change', 'isHosted': False, 'pillarId': 'pillar/news', 'pillarName': 'News'}, {'id': 'crosswords/crossword-blog/2023/sep/11/crossword-roundup-why-do-they-call-watery-coffee-an-americano', 'type': 'article', 'sectionId': 'crosswords', 'sectionName': 'Crosswords', 'webPublicationDate': '2023-09-11T09:45:58Z', 'webTitle': 'Crossword roundup: why do they call watery coffee an Americano?', 'webUrl': 'https://www.theguardian.com/crosswords/crossword-blog/2023/sep/11/crossword-roundup-why-do-they-call-watery-coffee-an-americano', 'apiUrl': 'https://content.guardianapis.com/crosswords/crossword-blog/2023/sep/11/crossword-roundup-why-do-they-call-watery-coffee-an-americano', 'isHosted': False, 'pillarId': 'pillar/lifestyle', 'pillarName': 'Lifestyle'}, {'id': 'food/2023/sep/09/turn-coffee-grounds-into-marinade-for-beetroot-tom-hunt-zero-waste-cooking', 'type': 'article', 'sectionId': 'food', 'sectionName': 'Food', 'webPublicationDate': '2023-09-09T05:00:14Z', 'webTitle': 'How to turn coffee grounds into a delicious marinade for beetroot | Waste not', 'webUrl': 'https://www.theguardian.com/food/2023/sep/09/turn-coffee-grounds-into-marinade-for-beetroot-tom-hunt-zero-waste-cooking', 'apiUrl': 'https://content.guardianapis.com/food/2023/sep/09/turn-coffee-grounds-into-marinade-for-beetroot-tom-hunt-zero-waste-cooking', 'isHosted': False, 'pillarId': 'pillar/lifestyle', 'pillarName': 'Lifestyle'}, {'id': 'coffee-connoisseurs/2023/sep/21/spilling-the-beans-how-to-precision-engineer-your-perfect-cup-of-coffee', 'type': 'article', 'sectionId': 'coffee-connoisseurs', 'sectionName': 'Coffee connoisseurs', 'webPublicationDate': '2023-09-21T13:10:58Z', 'webTitle': 'Spilling the beans: how to precision-engineer your perfect cup of coffee', 'webUrl': 'https://www.theguardian.com/coffee-connoisseurs/2023/sep/21/spilling-the-beans-how-to-precision-engineer-your-perfect-cup-of-coffee', 'apiUrl': 'https://content.guardianapis.com/coffee-connoisseurs/2023/sep/21/spilling-the-beans-how-to-precision-engineer-your-perfect-cup-of-coffee', 'isHosted': False}, {'id': 'business/2023/sep/08/costa-coffee-recalls-food-items-over-possible-choking-hazard', 'type': 'article', 'sectionId': 'business', 'sectionName': 'Business', 'webPublicationDate': '2023-09-08T14:29:25Z', 'webTitle': 'Costa Coffee recalls sandwiches and wraps amid fears they contain stones', 'webUrl': 'https://www.theguardian.com/business/2023/sep/08/costa-coffee-recalls-food-items-over-possible-choking-hazard', 'apiUrl': 'https://content.guardianapis.com/business/2023/sep/08/costa-coffee-recalls-food-items-over-possible-choking-hazard', 'isHosted': False, 'pillarId': 'pillar/news', 'pillarName': 'News'}, {'id': 'global-development/2023/oct/05/we-know-the-pain-freed-india-coffee-workers-lead-way-from-bonded-labour', 'type': 'article', 'sectionId': 'global-development', 'sectionName': 'Global development', 'webPublicationDate': '2023-10-05T06:00:04Z', 'webTitle': '‘We know the pain’: freed India coffee workers lead way from bonded labour', 'webUrl': 'https://www.theguardian.com/global-development/2023/oct/05/we-know-the-pain-freed-india-coffee-workers-lead-way-from-bonded-labour', 'apiUrl': 'https://content.guardianapis.com/global-development/2023/oct/05/we-know-the-pain-freed-india-coffee-workers-lead-way-from-bonded-labour', 'isHosted': False, 'pillarId': 'pillar/news', 'pillarName': 'News'}, {'id': 'football/2023/jul/23/avocado-coffee-fajitas-the-food-guru-fuelling-the-matildas-dreams', 'type': 'article', 'sectionId': 'football', 'sectionName': 'Football', 'webPublicationDate': '2023-07-22T20:00:22Z', 'webTitle': 'Avocado, coffee, fajitas: the food guru fuelling the Matildas’ dreams', 'webUrl': 'https://www.theguardian.com/football/2023/jul/23/avocado-coffee-fajitas-the-food-guru-fuelling-the-matildas-dreams', 'apiUrl': 'https://content.guardianapis.com/football/2023/jul/23/avocado-coffee-fajitas-the-food-guru-fuelling-the-matildas-dreams', 'isHosted': False, 'pillarId': 'pillar/sport', 'pillarName': 'Sport'}, {'id': 'food/2023/oct/15/coffee-cremes-coins-and-selection-boxes-chocolatiers-revive-classics-in-bid-for-bumper-christmas', 'type': 'article', 'sectionId': 'food', 'sectionName': 'Food', 'webPublicationDate': '2023-10-15T11:00:11Z', 'webTitle': 'Coffee cremes, coins and selection boxes: chocolatiers revive classics in bid for bumper Christmas', 'webUrl': 'https://www.theguardian.com/food/2023/oct/15/coffee-cremes-coins-and-selection-boxes-chocolatiers-revive-classics-in-bid-for-bumper-christmas', 'apiUrl': 'https://content.guardianapis.com/food/2023/oct/15/coffee-cremes-coins-and-selection-boxes-chocolatiers-revive-classics-in-bid-for-bumper-christmas', 'isHosted': False, 'pillarId': 'pillar/lifestyle', 'pillarName': 'Lifestyle'}]}}\n"
     ]
    }
   ],
   "source": [
    "# Clean/prepare the data for analysis\n",
    "import requests\n",
    "import datetime\n",
    "\n",
    "# Set the base URL for The Guardian OpenPlatform API\n",
    "base_url = 'https://content.guardianapis.com/search'\n",
    "\n",
    "# Set your search keyword\n",
    "keyword = 'coffee'\n",
    "\n",
    "# Set the date range\n",
    "end_date = datetime.datetime.now()\n",
    "start_date = end_date - datetime.timedelta(days=90)\n",
    "\n",
    "# Set other parameters including date range\n",
    "params = {\n",
    "    'q': keyword,\n",
    "    'api-key': '73411318-5709-4527-9e9b-7f59a222cc2f',\n",
    "    'from-date': start_date.strftime('%Y-%m-%d'),  # Format: YYYY-MM-DD\n",
    "    'to-date': end_date.strftime('%Y-%m-%d'),      # Format: YYYY-MM-DD\n",
    "    # Add other parameters here if needed\n",
    "}\n",
    "\n",
    "\n",
    "# Make the API request\n",
    "response = requests.get(base_url, params=params)\n",
    "\n",
    "# Check if the request was successful\n",
    "if response.status_code == 200:\n",
    "    # Parse the JSON response\n",
    "    data = response.json()\n",
    "\n",
    "    # Print the response (you can also explore the structure of the JSON response)\n",
    "    print(data)\n",
    "else:\n",
    "    print(\"Error:\", response.status_code)\n"
   ]
  },
  {
   "cell_type": "code",
   "execution_count": 18,
   "metadata": {},
   "outputs": [],
   "source": [
    "base_url = 'https://content.guardianapis.com/'\n",
    "search_string = 'coffee'\n",
    "section = 'lifeandstyle'\n",
    "from_date = '2023-01-01'\n",
    "api_key = 'YOUR_API_KEY'\n",
    "full_url = f\"{base_url}search?q={search_string}&section={section}&from-date={from_date}&api-key={api_key}\"\n",
    "\n",
    "response = requests.get(full_url)\n",
    "\n",
    "if response.status_code == 200:\n",
    "    # Process the response\n",
    "    data = response.json()\n",
    "else:\n",
    "    print(\"Error:\", response.status_code)\n"
   ]
  },
  {
   "cell_type": "code",
   "execution_count": 19,
   "metadata": {},
   "outputs": [
    {
     "name": "stdout",
     "output_type": "stream",
     "text": [
      "Title: Tim Dowling: I am talking to the coffee machine. And yes, it’s listening\n",
      "Publication Date: 2023-08-19T05:00:09Z\n",
      "URL: https://www.theguardian.com/lifeandstyle/2023/aug/19/tim-dowling-i-am-talking-to-the-coffee-machine-and-yes-its-listening\n",
      "==================================================\n",
      "Title: Inside Britain’s tiniest places: ‘It’s an engineering work of art … with coffee’\n",
      "Publication Date: 2023-07-07T11:00:30Z\n",
      "URL: https://www.theguardian.com/lifeandstyle/2023/jul/07/inside-britains-tiniest-places-its-an-engineering-work-of-art-with-coffee\n",
      "==================================================\n",
      "Title: Tired, grumpy, self-medicating with KitKats and coffee? Here’s how the experts handle sleep deprivation\n",
      "Publication Date: 2023-08-28T09:00:32Z\n",
      "URL: https://www.theguardian.com/lifeandstyle/2023/aug/28/tired-grumpy-self-medicating-with-kitkats-and-coffee-heres-how-the-experts-handle-sleep-deprivation\n",
      "==================================================\n",
      "Title: Tim Dowling: the coffee machine has one final shock in store\n",
      "Publication Date: 2023-05-27T05:00:11Z\n",
      "URL: https://www.theguardian.com/lifeandstyle/2023/may/27/tim-dowling-the-coffee-machine-has-one-final-shock-in-store\n",
      "==================================================\n",
      "Title: How much? Edith Pritchett on paying £5.20 for an iced coffee – cartoon\n",
      "Publication Date: 2023-06-24T05:00:02Z\n",
      "URL: https://www.theguardian.com/lifeandstyle/ng-interactive/2023/jun/24/how-much-edith-pritchett-on-paying-520-for-an-iced-coffee-cartoon\n",
      "==================================================\n",
      "Title: Coffee and quirkiness: 10 ways to be more confident on dating apps\n",
      "Publication Date: 2023-06-07T09:00:32Z\n",
      "URL: https://www.theguardian.com/lifeandstyle/2023/jun/07/coffee-and-quirkiness-10-ways-to-be-more-confident-on-dating-apps\n",
      "==================================================\n",
      "Title: The pet I’ll never forget: Coffee the bloodied cockatoo – who rescued me as much as I rescued her\n",
      "Publication Date: 2023-09-25T10:00:25Z\n",
      "URL: https://www.theguardian.com/lifeandstyle/2023/sep/25/the-pet-ill-never-forget-coffee-the-bloodied-cockatoo-who-rescued-me-as-much-as-i-rescued-her\n",
      "==================================================\n",
      "Title: You be the judge: should my wife stop using her coffee spoon in my tea? \n",
      "Publication Date: 2023-07-07T07:00:25Z\n",
      "URL: https://www.theguardian.com/lifeandstyle/2023/jul/07/you-be-the-judge-should-my-wife-stop-using-her-coffee-spoon-in-my-tea\n",
      "==================================================\n",
      "Title: Sunday with Belinda Carlisle: ‘I only have three vices left: coffee, chocolate and salt’\n",
      "Publication Date: 2023-05-14T05:46:46Z\n",
      "URL: https://www.theguardian.com/lifeandstyle/2023/may/14/sunday-with-belinda-carlisle-meditation-mexico-city\n",
      "==================================================\n",
      "Title: Three things with Jessica Rowe: ‘Whenever I buy a coffee out, it’s not hot enough’\n",
      "Publication Date: 2023-04-02T15:00:23Z\n",
      "URL: https://www.theguardian.com/lifeandstyle/2023/apr/02/three-things-with-jessica-rowe-whenever-i-buy-a-coffee-out-its-not-hot-enough\n",
      "==================================================\n"
     ]
    }
   ],
   "source": [
    "resp_data = data['response']\n",
    "results = resp_data['results']\n",
    "\n",
    "for article in results:\n",
    "    print(\"Title:\", article['webTitle'])\n",
    "    print(\"Publication Date:\", article['webPublicationDate'])\n",
    "    print(\"URL:\", article['webUrl'])\n",
    "    print(\"=\" * 50)\n"
   ]
  },
  {
   "cell_type": "code",
   "execution_count": 20,
   "metadata": {
    "tags": []
   },
   "outputs": [
    {
     "name": "stdout",
     "output_type": "stream",
     "text": [
      "Fetching 185 articles from 19 pages...\n",
      "Added articles for page: 1\n",
      "Getting articles from API for page: 2\n",
      "Processing results for page: 2\n",
      "Fetched 10 articles.\n",
      "Added articles for page: 2\n",
      "Status: 20 articles.\n",
      "Getting articles from API for page: 3\n",
      "Processing results for page: 3\n",
      "Fetched 10 articles.\n",
      "Added articles for page: 3\n",
      "Status: 30 articles.\n",
      "Getting articles from API for page: 4\n",
      "Processing results for page: 4\n",
      "Fetched 10 articles.\n",
      "Added articles for page: 4\n",
      "Status: 40 articles.\n",
      "Getting articles from API for page: 5\n",
      "Processing results for page: 5\n",
      "Fetched 10 articles.\n",
      "Added articles for page: 5\n",
      "Status: 50 articles.\n",
      "Getting articles from API for page: 6\n",
      "Processing results for page: 6\n",
      "Fetched 10 articles.\n",
      "Added articles for page: 6\n",
      "Status: 60 articles.\n",
      "Getting articles from API for page: 7\n",
      "Processing results for page: 7\n",
      "Fetched 10 articles.\n",
      "Added articles for page: 7\n",
      "Status: 70 articles.\n",
      "Getting articles from API for page: 8\n",
      "Processing results for page: 8\n",
      "Fetched 10 articles.\n",
      "Added articles for page: 8\n",
      "Status: 80 articles.\n",
      "Getting articles from API for page: 9\n",
      "Processing results for page: 9\n",
      "Fetched 10 articles.\n",
      "Added articles for page: 9\n",
      "Status: 90 articles.\n",
      "Getting articles from API for page: 10\n",
      "Processing results for page: 10\n",
      "Fetched 10 articles.\n",
      "Added articles for page: 10\n",
      "Status: 100 articles.\n",
      "Getting articles from API for page: 11\n",
      "Processing results for page: 11\n",
      "Fetched 10 articles.\n",
      "Added articles for page: 11\n",
      "Status: 110 articles.\n",
      "Getting articles from API for page: 12\n",
      "Processing results for page: 12\n",
      "Fetched 10 articles.\n",
      "Added articles for page: 12\n",
      "Status: 120 articles.\n",
      "Getting articles from API for page: 13\n",
      "Processing results for page: 13\n",
      "Fetched 10 articles.\n",
      "Added articles for page: 13\n",
      "Status: 130 articles.\n",
      "Getting articles from API for page: 14\n",
      "Processing results for page: 14\n",
      "Fetched 10 articles.\n",
      "Added articles for page: 14\n",
      "Status: 140 articles.\n",
      "Getting articles from API for page: 15\n",
      "Processing results for page: 15\n",
      "Fetched 10 articles.\n",
      "Added articles for page: 15\n",
      "Status: 149 articles.\n",
      "Getting articles from API for page: 16\n",
      "Processing results for page: 16\n",
      "Fetched 10 articles.\n",
      "Added articles for page: 16\n",
      "Status: 159 articles.\n",
      "Getting articles from API for page: 17\n",
      "Processing results for page: 17\n",
      "Fetched 10 articles.\n",
      "Added articles for page: 17\n",
      "Status: 169 articles.\n",
      "Getting articles from API for page: 18\n",
      "Processing results for page: 18\n",
      "Fetched 10 articles.\n",
      "Added articles for page: 18\n",
      "Status: 179 articles.\n",
      "Getting articles from API for page: 19\n",
      "Processing results for page: 19\n",
      "Fetched 5 articles.\n",
      "Added articles for page: 19\n",
      "Status: 184 articles.\n",
      "FINISHED: Fetched 184 articles.\n"
     ]
    }
   ],
   "source": [
    "def articles_from_page_results(page_results):\n",
    "    articles = {}\n",
    "    for result in page_results:\n",
    "        article_date = result['webPublicationDate']\n",
    "        article_title = result['webTitle'] + f\" [{article_date}]\"\n",
    "        articles[article_title] = result['webUrl']\n",
    "    return articles\n",
    "\n",
    "def get_all_articles_for_response(response_json, full_url):\n",
    "    total_pages = response_json['pages']\n",
    "    total_articles = response_json['total']\n",
    "    print(f\"Fetching {total_articles} articles from {total_pages} pages...\")\n",
    "    all_articles = {}\n",
    "    page1_articles = articles_from_page_results(response_json['results'])\n",
    "    all_articles.update(page1_articles)\n",
    "    print(\"Added articles for page: 1\")\n",
    "\n",
    "    for page in range(2, total_pages + 1):\n",
    "        print(\"Getting articles from API for page:\", page)\n",
    "        page_response = requests.get(full_url + f\"&page={page}\")\n",
    "        if page_response.status_code == 200:\n",
    "            page_data = page_response.json()['response']\n",
    "            print(\"Processing results for page:\", page_data['currentPage'])\n",
    "            page_articles = articles_from_page_results(page_data['results'])\n",
    "            print(f\"Fetched {len(page_articles)} articles.\")\n",
    "            all_articles.update(page_articles)\n",
    "            print(\"Added articles for page:\", page)\n",
    "            print(f\"Status: {len(all_articles)} articles.\")\n",
    "            time.sleep(1)  # Avoid hitting the API too hard\n",
    "        else:\n",
    "            print(\"Error on page:\", page_response.status_code)\n",
    "\n",
    "    print(f\"FINISHED: Fetched {len(all_articles)} articles.\")\n",
    "    return all_articles\n",
    "\n",
    "# Call the function to get all articles\n",
    "my_articles = get_all_articles_for_response(resp_data, full_url)\n"
   ]
  },
  {
   "cell_type": "code",
   "execution_count": 21,
   "metadata": {
    "tags": []
   },
   "outputs": [
    {
     "name": "stdout",
     "output_type": "stream",
     "text": [
      "Total Articles: 184\n",
      "Tim Dowling: I am talking to the coffee machine. And yes, it’s listening [2023-08-19T05:00:09Z]\n",
      "Inside Britain’s tiniest places: ‘It’s an engineering work of art … with coffee’ [2023-07-07T11:00:30Z]\n",
      "Tired, grumpy, self-medicating with KitKats and coffee? Here’s how the experts handle sleep deprivation [2023-08-28T09:00:32Z]\n",
      "Tim Dowling: the coffee machine has one final shock in store [2023-05-27T05:00:11Z]\n",
      "How much? Edith Pritchett on paying £5.20 for an iced coffee – cartoon [2023-06-24T05:00:02Z]\n",
      "Coffee and quirkiness: 10 ways to be more confident on dating apps [2023-06-07T09:00:32Z]\n",
      "The pet I’ll never forget: Coffee the bloodied cockatoo – who rescued me as much as I rescued her [2023-09-25T10:00:25Z]\n",
      "You be the judge: should my wife stop using her coffee spoon in my tea?  [2023-07-07T07:00:25Z]\n",
      "Sunday with Belinda Carlisle: ‘I only have three vices left: coffee, chocolate and salt’ [2023-05-14T05:46:46Z]\n",
      "Three things with Jessica Rowe: ‘Whenever I buy a coffee out, it’s not hot enough’ [2023-04-02T15:00:23Z]\n",
      "How we met: ‘I smuggled cognac into hospital for him – and poured it when the nurses weren’t looking’ [2023-09-21T10:00:02Z]\n",
      "The one change that didn’t work: I gave up coffee – and got hooked on energy drinks [2023-01-25T11:00:19Z]\n",
      "My sister made a racist joke. Now we have a family rift | Ask Philippa [2023-06-11T05:01:42Z]\n",
      "Yeshi Buna, Brisbane: the Ethiopian restaurant where combination platters are everything [2023-09-30T04:00:05Z]\n",
      "Notes on chocolate: Easter bunnies with added bounce [2023-03-26T08:00:13Z]\n",
      "Smoking in pregnancy increases risk of premature birth threefold, study finds [2023-09-28T04:00:19Z]\n",
      "Tim Dowling: hammocks are many things – ‘relaxing’ is not one of them [2023-09-16T06:00:23Z]\n",
      "Sunday with Emilia Fox: ‘Rowing on the Thames with my daughter and all the dogs’ [2023-01-01T06:45:39Z]\n",
      "The Wembley Point mystery: who was the woman who jumped to her death? [2023-05-27T10:00:04Z]\n",
      "Can’t sleep? Here’s a world in your ear | Brief letters [2023-08-06T15:19:34Z]\n",
      "A new start after 60: ‘I was such a chicken – until I spent seven weeks travelling alone’ [2023-01-16T07:00:36Z]\n",
      "The microwave lemon trick – and 10 other household hacks that actually work [2023-08-18T10:00:46Z]\n",
      "After I became the oldest in my family at 24, the pull towards older people was gravitational | Nadine J Cohen [2023-09-09T20:00:33Z]\n",
      "How we met: ‘I didn’t want to talk to her – but now I can’t imagine us not being friends’ [2023-09-07T16:14:12Z]\n",
      "Tim Dowling: my sons have left the house, to be replaced by spiders [2023-09-30T05:00:07Z]\n",
      "‘I can still dance when I’m sober!’ My alcohol-free Glastonbury diary [2023-06-26T13:00:20Z]\n",
      "What links labradoodles and shopping malls? The Saturday quiz [2023-09-16T06:00:22Z]\n",
      "Jayde Adams: ‘I fill my bath with Epsom salts and turn myself into a mermaid’ [2023-06-25T05:46:28Z]\n",
      "The moment I knew: he lost my number – so he turned up at my front door to ask me out [2023-08-26T20:00:01Z]\n",
      "Tim Dowling: I was once better at memory games. I do remember that [2023-05-06T05:58:30Z]\n",
      "Tim Dowling: the cat is a liar and a coward, and it’s got me by the toe [2023-04-08T05:00:14Z]\n",
      "Sunday with Jo Brand: ‘‘I love telly. I’m slightly obsessed because my mum was a bit puritanical about it’ [2023-10-08T05:47:32Z]\n",
      "Adrift in a fragrant garden [2023-09-10T05:15:43Z]\n",
      "The moment I knew: we hadn’t met, I hadn’t seen a picture. But when I read her words a humming started up [2023-08-05T20:00:52Z]\n",
      "The pet I’ll never forget: the emotional support hamster who helped me through depression [2023-10-16T10:00:39Z]\n",
      "Sunday with Tom Rasmussen: ‘I hate washing my towels and Hoovering is vile’ [2023-04-30T05:46:01Z]\n",
      "Dining across the divide: ‘I didn’t want to rant on, to spoil her lunch’ [2023-07-27T11:30:39Z]\n",
      "My husband has no friends and is too reliant on me. How can I help him? | Ask Annalisa Barbieri [2023-07-28T13:30:10Z]\n",
      "Three things with Kat Stewart: ‘It had seen more domestic action than any garment should’ [2023-05-21T15:00:31Z]\n",
      "Sunday with Rev Kate Bottley: ‘I make food when people are sad’ [2023-09-10T05:47:43Z]\n",
      "I’m proud of my wildlife-friendly patch, but I really don’t dig this mole [2023-09-08T10:00:36Z]\n",
      "How we met: ‘It was like I was hit by cupid’s arrow!’ [2023-10-12T10:00:06Z]\n",
      "Sunday with Marcus Brigstocke: ‘Nothing beats watching an old musical’ [2023-03-26T05:45:09Z]\n",
      "Alarms, blue light and nappuccinos: how to stay awake for late-night sports [2023-07-17T15:00:31Z]\n",
      "Hidden holiday fees: is the end nigh for dastardly drip pricing? [2023-09-05T14:44:02Z]\n",
      "Tim Dowling: the power is off – no doubt the fault of the electrician’s apprentice  [2023-03-25T06:00:42Z]\n",
      "Should I worry about my twitchy eye? [2023-10-08T14:00:45Z]\n",
      "Treat yourself! 40 little luxuries for less than £20 to take the edge off [2023-02-11T10:00:50Z]\n",
      "Sunday with Florence Knight: ‘Walk Guinevere, our Cockapoo, on Primrose Hill’ [2023-03-05T06:45:46Z]\n",
      "The pet I’ll never forget: Glenn was a funny, barky dream of a dog. Then one day he just wasn’t there [2023-09-04T10:00:39Z]\n",
      "Single minded: people with public lives on the pleasures of solitude [2023-09-10T13:00:52Z]\n",
      "Which hell-raising actor kept a suite at the Savoy? The Saturday quiz [2023-05-20T06:00:49Z]\n",
      "I’ve struggled to make friends since moving abroad – and it’s making me lonely [2023-05-18T11:00:58Z]\n",
      "‘There are petitions dedicated to their return’: in praise of great lost products, from Cheese Moments to the Skip It [2023-07-28T10:00:08Z]\n",
      "What links Penelope Pitstop to the Visage frontman? The Saturday quiz [2023-04-29T06:00:28Z]\n",
      "Blind date: ‘My friends might be a bit wild for him’ [2023-08-12T05:00:09Z]\n",
      "Readers reply: which everyday item’s design was perfected earliest? [2023-09-10T13:00:52Z]\n",
      "In living colour: how a Victorian tannery became an upbeat apartment [2023-05-26T10:00:31Z]\n",
      "How we met: ‘One of my friends said: “Dave fancies you!” I said: “Oh God”’ [2023-04-10T10:00:16Z]\n",
      "Happy endings: the Dining Across the Divide pair who became ‘soul sisters’ [2023-06-22T16:00:13Z]\n",
      "A new start after 60: I wanted to find myself – so I kayaked 6,800 miles alone [2023-10-02T06:00:05Z]\n",
      "Desk yoga: is this the best way to de-stress in the office? [2023-06-14T13:00:05Z]\n",
      "The moment I knew: ‘I had a realisation – if the plane crashed I’d die without Laura knowing I loved her’ [2023-08-20T00:00:33Z]\n",
      "Three things with Anthony Burke: ‘It was lost forever in the demolition’ [2023-09-03T15:00:16Z]\n",
      "A new start after 60: I spent 40 years hiding that I was gay. Then my husband’s dementia wiped away my fear [2023-09-18T06:00:20Z]\n",
      "Sunday with Graham Norton: ‘I squeeze in Wordle before lights out’ [2023-05-07T05:45:12Z]\n",
      "‘You don’t need to know the history of Sarajevo to see symbiosis’: Magdalena Szurek’s best phone picture [2023-03-04T10:00:21Z]\n",
      "You be the judge: should my girlfriend stop monitoring me at the gym? [2023-05-19T07:00:22Z]\n",
      "Three things with Ernie Dingo: ‘Somebody’s got it. It’s got my name on it’ [2023-07-23T15:00:44Z]\n",
      "What links James Dean’s car and Tutankhamun? The Saturday quiz [2023-03-04T07:00:20Z]\n",
      "The moment I knew: she was the most beautiful woman I’d ever seen, and I fell in love – twice [2023-07-15T20:00:40Z]\n",
      "50 first dates in 2023: one woman’s wild romantic odyssey – and what it reveals about love [2023-05-11T05:00:18Z]\n",
      "An arty weekend in … Eastbourne, East Sussex [2023-04-25T06:00:29Z]\n",
      "It was our baby daughter’s first time at nursery and we knew there would be tears – but they weren’t ours | Séamas O'Reilly [2023-01-22T09:00:31Z]\n",
      "‘Repair is the new cool’: how Amsterdam started a fashion revolution [2023-10-11T08:00:33Z]\n",
      "Lose the shoes! It’s time to get ready for Barefoot-Boy Summer [2023-05-22T15:23:06Z]\n",
      "Making a splash: the paint guru who wants us to fall in love with colour [2023-09-17T10:30:00Z]\n",
      "Sunday with Arabella Weir: ‘I won’t do anything antisocial like mowing the lawn’ [2023-04-02T05:45:12Z]\n",
      "You be the judge: should my friend stop nicking my seat in my favourite cafe? [2023-05-12T07:00:47Z]\n",
      "Grandes marques: a house in Champagne country that’s full of sparkle [2023-08-19T15:02:21Z]\n",
      "‘It’s a quicker route but at your peril’: the obstacles to walking in Liverpool [2023-09-20T05:00:09Z]\n",
      "Life on the tiles in our ‘dream’ Sicilian home [2023-07-29T15:01:41Z]\n",
      "Kaye Adams: ‘My accent went very Hyacinth Bucket until I returned to Scottish Television’ [2023-05-13T13:01:23Z]\n",
      "Lonely in LA, I made a remarkable friendship with my older neighbour [2023-09-03T11:00:10Z]\n",
      "Could two busy homeworkers swap an empty nest for a room in Venice? [2023-02-05T13:00:22Z]\n",
      "The secret to good hair, beating jetlag and great photos – plus 13 other ways to do the little things better [2023-04-01T09:00:47Z]\n",
      "I find socialising so tiring, but worry I’m missing out | Ask Philippa [2023-08-27T05:02:11Z]\n",
      "Tim Dowling: the best thing about recording an album? Without doubt, lunch [2023-01-07T06:00:11Z]\n",
      "A new world of gardening advice is opening up on social media [2023-03-05T08:15:47Z]\n",
      "Back to black: how to overdye clothes to restore their colour [2023-09-04T15:00:06Z]\n",
      "How we met: ‘He arrived at my door to buy a sofa – there was definitely chemistry’ [2023-04-27T10:00:28Z]\n",
      "Letting in the light in a Finnish artist’s home [2023-07-22T15:01:15Z]\n",
      " John Lewis must regain its ‘soul’ to survive, says Mary Portas  [2023-03-25T09:41:11Z]\n",
      "‘She made excuses and ran to the toilet’: when wedding proposals go hilariously wrong [2023-06-08T14:46:59Z]\n",
      "Trying to be good isn’t easy. Where do I begin? | Emma Beddington [2023-06-25T07:01:29Z]\n",
      "Readers reply: how did salt and pepper become the standard table seasonings? [2023-05-28T13:00:32Z]\n",
      "How we met: ‘He’s one of the kindest people – with an unparalleled sense of humour’ [2023-05-04T10:00:47Z]\n",
      "A wilder kind of campervanning: park and hike on Dartmoor [2023-07-26T06:00:11Z]\n",
      "Blind date: ‘I couldn’t think of anywhere to take a sober person on a Friday night in Soho’ [2023-02-18T06:00:31Z]\n",
      "My most romantic moment: a kind man bought me flowers – with no expectation of winning me over [2023-02-14T10:00:34Z]\n",
      "‘Cats are like mini gurus’: the feline path to inner peace [2023-07-22T00:00:11Z]\n",
      "You be the judge: should my housemate stop flushing tampons down the toilet? [2023-07-14T07:00:04Z]\n",
      "‘Some weeks I only speak to the postman’: how to escape learned loneliness – and soar socially [2023-02-02T06:00:52Z]\n",
      "‘It’s the greatest feeling’: six knitters on their all-time favourite projects [2023-08-14T15:00:19Z]\n",
      "Councils squeezing the life out of England's parks is bad for us all | Eva Wiseman [2023-05-14T07:01:48Z]\n",
      "How far would you go to save your cat? For me, it started with a contraband drug [2023-05-23T16:00:41Z]\n",
      "Dutch courage: a family home in Amsterdam balances the old with new [2023-03-11T16:00:24Z]\n",
      "I walked the 650km Australian Alps walking track at 19, alone. Nothing was as I expected | Ya Reeves [2023-05-08T15:00:10Z]\n",
      "Broadcasting your breakfast: why TikTokers obsess over morning routines [2023-02-18T19:00:07Z]\n",
      "The ultimate kid-friendly recipe? Alice Zaslavsky’s tray-bake pizza [2023-09-19T15:00:28Z]\n",
      "How we met: ‘I was rude about his hot cross buns’ [2023-03-27T10:00:44Z]\n",
      "Calls to make nap part of working day after latest study on brain benefits [2023-06-23T12:16:10Z]\n",
      "Is it possible to cure jet lag? ‘Sleep in the week before travel is our most important’ [2023-07-15T01:00:16Z]\n",
      "‘Where did I get my top? TikTok!’ How shopping went social – and hooked a new generation [2023-08-08T13:00:28Z]\n",
      "Experience: I didn’t burp for more than 20 years [2023-03-10T10:00:47Z]\n",
      "Blind date: ‘I fired half a baklava across the table, but I think I styled it out’ [2023-01-07T06:22:04Z]\n",
      "Tim Dowling: spring hasn’t sprung yet, but the tortoise has [2023-03-04T06:00:16Z]\n",
      "‘I have a hunch I was left damaged’: what would a scan reveal about my brain?  [2023-03-13T13:00:18Z]\n",
      "Tim Dowling: there’s a hole in my roof, but I have an ingenious plan [2023-03-18T06:00:03Z]\n",
      "How we met: ‘I watched him putting a condom on a banana – and that was it’ [2023-01-30T11:00:16Z]\n",
      "A moment that changed me: I watched a bomb-disposal robot from my window and my old life faded away [2023-01-11T07:00:12Z]\n",
      "The moment I knew: the second I heard her voice again, the planets realigned [2023-04-08T20:00:31Z]\n",
      "Post-birth, my most important relationship wasn’t with my baby | Freya Bennett [2023-02-07T14:00:48Z]\n",
      "Chew slowly, keep moving and eat 30 plants a week: 12 rules for gut health [2023-03-19T07:00:34Z]\n",
      "Trading places in Bath [2023-02-26T14:00:22Z]\n",
      "Tim Dowling: looking out from my garden office … it’s a jungle out there [2023-02-04T06:00:22Z]\n",
      "‘Sometimes it warms up to -5C’: tips on keeping the cold out from an Antarctic scientist, Scandi oyster diver and more [2023-01-13T11:00:14Z]\n",
      "You be the judge: should my phone-addicted friend go on a mobile detox? [2023-04-28T07:00:15Z]\n",
      "Put yourself first: the top 15 solo trips in the UK [2023-09-10T07:00:45Z]\n",
      "The psychological immune system: four ways to bolster yours – and have a happier, calmer life [2023-08-14T09:00:11Z]\n",
      "A moment that changed me: a stranger told me of his alcohol problem – and I realised I had one too [2023-02-08T07:00:10Z]\n",
      "Readers reply: is there a way I can tell if a relationship is right for me? [2023-04-16T13:00:10Z]\n",
      "Are you Daddy Pig or Logan Roy? A Father’s Day celebration of dads [2023-06-18T07:00:37Z]\n",
      "In my work I see tragedy daily and think: someone worked so hard to keep this person alive [2023-02-16T08:01:35Z]\n",
      "Eat at regular times, take three minute breaks and hum – how to fight feeling exhausted [2023-06-30T10:00:02Z]\n",
      "You be the judge: should my partner stop vaping all the time? [2023-03-31T07:00:16Z]\n",
      "My brother’s fear of Covid has stopped him socialising. What can I do? | Ask Annalisa Barbieri [2023-01-27T14:00:52Z]\n",
      "The secondhand home: 15 ways to find the vintage furniture of your dreams [2023-02-16T10:00:37Z]\n",
      "Have sex in the morning – but always bake at night: experts reveal the perfect time of day for everything  [2023-08-11T10:00:34Z]\n",
      "The Norwegian secret: how friluftsliv boosts health and happiness [2023-09-27T04:00:48Z]\n",
      "The battle to boost our deep sleep – and help stop dementia [2023-03-13T07:00:13Z]\n",
      "Should you trust your sixth sense? [2023-10-01T09:00:39Z]\n",
      "Overwhelmed in London, I moved to Berlin to save my sanity – and savour a new life [2023-06-04T13:00:01Z]\n",
      "‘I steer away from sugars, and most of all stress’: how six experts look after their own skin [2023-10-03T09:00:20Z]\n",
      " ‘I don’t come here to enjoy other people’s children!’ Should pubs and restaurants be kid-free zones? [2023-08-01T13:00:02Z]\n",
      "The Fizz look back: ‘We look close in that old photo, but we didn’t know each other at all’ [2023-03-18T12:00:11Z]\n",
      "When I went through a breakup in my late 20s, I became a walking cliche [2023-01-09T14:00:18Z]\n",
      "‘I miss the sex’: Why are the sexual needs of the bereaved still a taboo? [2023-05-14T11:00:53Z]\n",
      "The truth behind 10 of the biggest health beliefs [2023-01-04T06:00:09Z]\n",
      "New year, new you? But why, when the old you is perfect as it is | Eva Wiseman [2023-01-08T08:00:43Z]\n",
      "Gillian Anderson on why she is collecting sexual fantasies: ‘Women enjoy as rich an erotic life as men’ [2023-02-01T08:30:05Z]\n",
      "‘We have brothers, sons, lovers – but they can’t live here!’ The happy home shared by 26 women [2023-08-24T04:00:16Z]\n",
      "‘Say I want to lose weight. Will they cheer me on – or bring me a cupcake?’ The curse of the frenemy [2023-08-30T09:00:11Z]\n",
      "Tracy-Ann Oberman looks back: ‘I’m thinking, What’s this? I want to be a princess!’ [2023-02-25T12:00:50Z]\n",
      "The moment I knew: I was on a quest to figure out exactly how gay I was. But I kept coming back to her [2023-01-21T19:00:15Z]\n",
      "You be the judge: should my boyfriend stop using tea towels to wipe up mess in the kitchen? [2023-01-20T08:00:33Z]\n",
      "Shop slow, buy less – the experts’ guide to 12 essential items that can last you a lifetime [2023-05-26T10:00:32Z]\n",
      "‘We don’t go a day without touch’: couples reveal the little things that make a relationship work [2023-03-17T11:00:39Z]\n",
      "Chocolate doesn’t cause acne – but carrots do help you see in the dark: the best and worst health myths and wisdom [2023-04-29T06:00:29Z]\n",
      "My search for female gardeners’ life stories helped me combat loneliness – and make great friends [2023-03-05T14:00:01Z]\n",
      "B*Witched look back: ‘We can still do the dance moves – maybe not the bouncy ones’ [2023-01-07T12:00:18Z]\n",
      "The truth about emulsifiers: are they destroying our gut health? [2023-06-29T09:00:50Z]\n",
      "A trip to my mother’s native Sweden helped me recapture my childhood [2023-03-19T07:00:33Z]\n",
      "‘Look the monster in the eye!’ 11 things I learned from Matthew McConaughey last night [2023-04-25T13:08:36Z]\n",
      "My Covid-era confidence crisis: how to regain your sense of self, hope and happiness [2023-05-31T05:00:16Z]\n",
      "‘A lot of it starts with cushions’: what happened when I let a primpover expert into my home [2023-04-15T06:00:35Z]\n",
      "Clock watching: meet the artist who thinks time is ruining our lives [2023-04-23T09:00:35Z]\n",
      "Ignore trends, ask for more photos and haggle: how to buy vintage like a pro [2023-04-15T08:00:36Z]\n",
      "Wasp-free barbecues and perfect campfires: how to do the UK outdoors in comfort and style (whatever the weather) [2023-06-24T06:00:04Z]\n",
      "52 acts of kindness: how to spread joy in every week of 2023 [2023-01-03T06:00:37Z]\n",
      "How ‘love languages’ has been helping couples for 30 years [2023-01-01T15:00:49Z]\n",
      "‘She helped me believe it was all going to be OK’: Elizabeth Day on the friend who turned her life around [2023-04-02T10:00:19Z]\n",
      "‘You have to set time aside for friendship’: the radical power of hanging out [2023-01-19T11:50:11Z]\n",
      "Vibe check: what does the most overused word of our era actually mean? [2023-03-22T07:00:19Z]\n",
      "Dear Mum … writers reflect on the unique influence of their mothers [2023-03-19T08:00:36Z]\n",
      "No, you don’t have to poo every day: eight things nutrition experts want you to know [2023-03-20T13:00:10Z]\n",
      "The healthspan revolution: how to live a long, strong and happy life [2023-03-28T05:00:07Z]\n",
      "‘I thought of all the times I’d had to shout and my heart shrivelled up’: life with my hearing-impaired father [2023-08-12T08:00:12Z]\n",
      "Take more breaks at work, put your head in the freezer … an expert’s eight simple tips for better sleep [2023-01-05T10:00:17Z]\n",
      "What are the real signs of a healthy gut? A user’s guide [2023-03-18T07:00:07Z]\n",
      "Joan Collins on love, loss and lust at 90: ‘You have to eat life or life will eat you!’ [2023-09-25T04:00:16Z]\n",
      "Forget regret! How to have a happy life – according to the world’s leading expert [2023-02-06T06:00:14Z]\n",
      "Just the three of us: could our friendship survive having the same lover?  [2023-01-22T10:00:34Z]\n",
      "‘I Googled “white guy” and there I was’: stock photo models on seeing their faces in everything from ads to ridiculous memes [2023-04-08T09:00:18Z]\n"
     ]
    }
   ],
   "source": [
    "print(\"Total Articles:\",len(my_articles))\n",
    "for title,text in my_articles.items():\n",
    "    print(title)"
   ]
  },
  {
   "cell_type": "code",
   "execution_count": 22,
   "metadata": {
    "tags": []
   },
   "outputs": [],
   "source": [
    "# save articles to a json file\n",
    "file_path = \"data/\"\n",
    "file_name = \"coffee_assignment.json\" # <-- rename the file\n",
    "\n",
    "with open(f\"{file_path}{file_name}\",'w', encoding='utf-8') as fp:\n",
    "    fp.write(json.dumps(my_articles))"
   ]
  },
  {
   "cell_type": "code",
   "execution_count": null,
   "metadata": {},
   "outputs": [],
   "source": []
  },
  {
   "cell_type": "markdown",
   "metadata": {},
   "source": [
    "### 3. Analysis"
   ]
  },
  {
   "cell_type": "code",
   "execution_count": 23,
   "metadata": {},
   "outputs": [
    {
     "name": "stdout",
     "output_type": "stream",
     "text": [
      "Month: 2023-08, Article Count: 2\n",
      "Month: 2023-07, Article Count: 2\n",
      "Month: 2023-05, Article Count: 2\n",
      "Month: 2023-06, Article Count: 2\n",
      "Month: 2023-09, Article Count: 1\n",
      "Month: 2023-04, Article Count: 1\n"
     ]
    }
   ],
   "source": [
    "from collections import defaultdict\n",
    "\n",
    "# Create a dictionary to store counts for each month\n",
    "month_counts = defaultdict(int)\n",
    "\n",
    "# Loop through the data and count articles by month\n",
    "for article in resp_data['results']:\n",
    "    publication_date_str = article['webPublicationDate']\n",
    "    publication_date = datetime.datetime.strptime(publication_date_str, '%Y-%m-%dT%H:%M:%SZ')\n",
    "    month = publication_date.strftime('%Y-%m')\n",
    "    month_counts[month] += 1\n",
    "\n",
    "# Print the counts for each month\n",
    "for month, count in month_counts.items():\n",
    "    print(f\"Month: {month}, Article Count: {count}\")\n"
   ]
  },
  {
   "cell_type": "code",
   "execution_count": 24,
   "metadata": {
    "tags": []
   },
   "outputs": [
    {
     "name": "stdout",
     "output_type": "stream",
     "text": [
      "Word Frequency: Counter({'inside': 1, 'britain’s': 1, 'tiniest': 1, 'places:': 1, '‘it’s': 1, 'an': 1, 'engineering': 1, 'work': 1, 'of': 1, 'art': 1, '…': 1, 'with': 1, 'coffee’.': 1, 'lorem': 1, 'ipsum...': 1})\n"
     ]
    }
   ],
   "source": [
    "import json\n",
    "from collections import Counter\n",
    "import datetime\n",
    "\n",
    "# Load data from JSON file\n",
    "json_file = 'data/coffee_assignment.json'\n",
    "with open(json_file, 'r') as f:\n",
    "    json_data = json.load(f)\n",
    "\n",
    "# Specify the article title you want to analyze\n",
    "article_title = \"Inside Britain’s tiniest places: ‘It’s an engineering work of art … with coffee’ [2023-07-07T11:00:30Z]\"\n",
    "\n",
    "# Extract the article content using the specified title\n",
    "article_url = json_data[article_title]\n",
    "# You will need to use the 'requests' library here to fetch the article content\n",
    "# article_response = requests.get(article_url)\n",
    "# article_content = article_response.text\n",
    "\n",
    "# For demonstration\n",
    "article_content = \"Inside Britain’s tiniest places: ‘It’s an engineering work of art … with coffee’. Lorem ipsum...\"\n",
    "\n",
    "# Initialize a counter for word frequency\n",
    "word_freq = Counter()\n",
    "\n",
    "# Clean and process article text\n",
    "words = article_content.lower().split()\n",
    "word_freq.update(words)\n",
    "\n",
    "# Count the frequency of each word\n",
    "print(\"Word Frequency:\", word_freq)\n"
   ]
  },
  {
   "cell_type": "code",
   "execution_count": 25,
   "metadata": {
    "tags": []
   },
   "outputs": [
    {
     "name": "stdout",
     "output_type": "stream",
     "text": [
      "Coffee: 0 occurrences\n",
      "Engineering: 1 occurrences\n",
      "Art: 1 occurrences\n",
      "Tiny places: 0 occurrences\n"
     ]
    }
   ],
   "source": [
    "# Define the keywords to analyze\n",
    "keywords_to_analyze = ['coffee', 'engineering', 'art', 'tiny places']\n",
    "\n",
    "# Clean and tokenize the article content\n",
    "article_words = article_content.split()\n",
    "article_words = [word.strip('.,!?()[]') for word in article_words]  # Remove punctuation\n",
    "\n",
    "# Calculate keyword frequencies\n",
    "keyword_freq = Counter()\n",
    "for keyword in keywords_to_analyze:\n",
    "    keyword_freq[keyword] = article_words.count(keyword.lower())\n",
    "\n",
    "# Print keyword frequencies\n",
    "for keyword, freq in keyword_freq.items():\n",
    "    print(f\"{keyword.capitalize()}: {freq} occurrences\")\n"
   ]
  },
  {
   "cell_type": "code",
   "execution_count": 26,
   "metadata": {
    "tags": []
   },
   "outputs": [
    {
     "name": "stdout",
     "output_type": "stream",
     "text": [
      "Sentiment: Neutral (0.00)\n"
     ]
    }
   ],
   "source": [
    "from textblob import TextBlob\n",
    "\n",
    "# Analyze sentiment of the article\n",
    "article_blob = TextBlob(article_content)\n",
    "sentiment = article_blob.sentiment.polarity\n",
    "\n",
    "if sentiment > 0:\n",
    "    sentiment_label = \"Positive\"\n",
    "elif sentiment < 0:\n",
    "    sentiment_label = \"Negative\"\n",
    "else:\n",
    "    sentiment_label = \"Neutral\"\n",
    "\n",
    "print(f\"Sentiment: {sentiment_label} ({sentiment:.2f})\")\n"
   ]
  },
  {
   "cell_type": "code",
   "execution_count": 27,
   "metadata": {
    "tags": []
   },
   "outputs": [
    {
     "name": "stdout",
     "output_type": "stream",
     "text": [
      "coffee marketing: 1 occurrences\n"
     ]
    }
   ],
   "source": [
    "from nltk import bigrams\n",
    "from collections import defaultdict\n",
    "\n",
    "# Combine article content with \"coffee marketing\" for analysis\n",
    "combined_text = article_content.lower() + \" coffee marketing\"\n",
    "\n",
    "# Tokenize combined text into words\n",
    "words = combined_text.split()\n",
    "\n",
    "# Generate bigrams (pairs of adjacent words)\n",
    "bigram_freq = defaultdict(int)\n",
    "for w1, w2 in bigrams(words):\n",
    "    if 'coffee' in w1 and 'marketing' in w2:\n",
    "        bigram_freq[(w1, w2)] += 1\n",
    "\n",
    "# Print the most common bigrams\n",
    "sorted_bigrams = sorted(bigram_freq.items(), key=lambda x: x[1], reverse=True)\n",
    "for bigram, freq in sorted_bigrams:\n",
    "    print(f\"{bigram[0]} {bigram[1]}: {freq} occurrences\")\n"
   ]
  },
  {
   "cell_type": "code",
   "execution_count": 28,
   "metadata": {
    "tags": []
   },
   "outputs": [
    {
     "name": "stdout",
     "output_type": "stream",
     "text": [
      "Named Entities Related to Coffee Marketing:\n"
     ]
    }
   ],
   "source": [
    "import spacy\n",
    "\n",
    "# Load NER model\n",
    "nlp = spacy.load(\"en_core_web_sm\")\n",
    "\n",
    "# Apply NER to the article content\n",
    "doc = nlp(article_content)\n",
    "\n",
    "# Extract and print named entities related to coffee marketing\n",
    "coffee_marketing_entities = set()\n",
    "for ent in doc.ents:\n",
    "    if \"coffee\" in ent.text.lower() or \"marketing\" in ent.text.lower():\n",
    "        coffee_marketing_entities.add(ent.text)\n",
    "\n",
    "print(\"Named Entities Related to Coffee Marketing:\")\n",
    "for entity in coffee_marketing_entities:\n",
    "    print(entity)\n"
   ]
  },
  {
   "cell_type": "code",
   "execution_count": null,
   "metadata": {},
   "outputs": [],
   "source": []
  },
  {
   "cell_type": "markdown",
   "metadata": {},
   "source": [
    "### 4. Visualisation"
   ]
  },
  {
   "cell_type": "code",
   "execution_count": 29,
   "metadata": {},
   "outputs": [],
   "source": [
    "# Visualise the results"
   ]
  },
  {
   "cell_type": "code",
   "execution_count": 30,
   "metadata": {
    "tags": []
   },
   "outputs": [
    {
     "data": {
      "image/png": "[encoded data removed]",
      "text/plain": [
       "<Figure size 640x480 with 1 Axes>"
      ]
     },
     "metadata": {},
     "output_type": "display_data"
    }
   ],
   "source": [
    "import matplotlib.pyplot as plt\n",
    "\n",
    "publication_dates = [article['webPublicationDate'] for article in resp_data['results']]\n",
    "publication_dates = [datetime.datetime.strptime(date, '%Y-%m-%dT%H:%M:%SZ') for date in publication_dates]\n",
    "\n",
    "# Create a histogram of publication dates\n",
    "plt.hist(publication_dates, bins=20)\n",
    "plt.xlabel(\"Publication Date\")\n",
    "plt.ylabel(\"Article Count\")\n",
    "plt.title(\"Publication Date Distribution\")\n",
    "plt.xticks(rotation=45)\n",
    "plt.tight_layout()\n",
    "plt.show()\n"
   ]
  },
  {
   "cell_type": "code",
   "execution_count": 31,
   "metadata": {
    "tags": []
   },
   "outputs": [
    {
     "data": {
      "image/png": "[encoded data removed]",
      "text/plain": [
       "<Figure size 1000x500 with 1 Axes>"
      ]
     },
     "metadata": {},
     "output_type": "display_data"
    }
   ],
   "source": [
    "from wordcloud import WordCloud\n",
    "import matplotlib.pyplot as plt\n",
    "\n",
    "# Generate a word cloud from the article content\n",
    "wordcloud = WordCloud(width=800, height=400, background_color='white').generate(article_content)\n",
    "\n",
    "# Display the word cloud\n",
    "plt.figure(figsize=(10, 5))\n",
    "plt.imshow(wordcloud, interpolation='bilinear')\n",
    "plt.axis('off')\n",
    "plt.show()\n"
   ]
  },
  {
   "cell_type": "markdown",
   "metadata": {},
   "source": [
    "### 5. Insight"
   ]
  },
  {
   "cell_type": "markdown",
   "metadata": {},
   "source": [
    "With the Guardian API, we could load data regaridng coffee industry. Based on the analysis above, we could find that people finds coffee more in hot weather and they willing to ignore price of coffee during that time. And also, we could find that avocado has a great effect when drinking coffee. Thus, it would be helpful to sell this product together at all stores in Brisbane to promote revenue next year."
   ]
  }
 ],
 "metadata": {
  "kernelspec": {
   "display_name": "Python 3 (ipykernel)",
   "language": "python",
   "name": "python3"
  },
  "language_info": {
   "codemirror_mode": {
    "name": "ipython",
    "version": 3
   },
   "file_extension": ".py",
   "mimetype": "text/x-python",
   "name": "python",
   "nbconvert_exporter": "python",
   "pygments_lexer": "ipython3",
   "version": "3.10.12"
  },
  "qut": {
   "creation_period": "2023_sem2",
   "nb_name": "UA1-assignment1-template",
   "unit_code": "IAB303"
  }
 },
 "nbformat": 4,
 "nbformat_minor": 4
}
